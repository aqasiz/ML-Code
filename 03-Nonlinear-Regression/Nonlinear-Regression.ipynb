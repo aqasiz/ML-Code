{
 "cells": [
  {
   "cell_type": "markdown",
   "id": "76e4e8a2-dc8f-42ae-a69e-b2fe8c197535",
   "metadata": {},
   "source": [
    "# <font color='#FFE15D'>**Week 4:  Nonlinear Regression 📈**</font>"
   ]
  },
  {
   "cell_type": "markdown",
   "id": "b3c9a700-d1f2-4a6c-a602-838a6d8b008d",
   "metadata": {
    "tags": []
   },
   "source": [
    "## **🔸 Imports**"
   ]
  },
  {
   "cell_type": "code",
   "execution_count": 127,
   "id": "a1b1d41f-27a4-48cb-a22c-8c6637ad63c2",
   "metadata": {},
   "outputs": [],
   "source": [
    "import pandas as pd\n",
    "import numpy as np\n",
    "import matplotlib.pyplot as plt\n",
    "\n",
    "from sklearn.preprocessing import PolynomialFeatures, SplineTransformer, PowerTransformer, FunctionTransformer, QuantileTransformer\n",
    "from sklearn.linear_model import LinearRegression, SGDRegressor\n",
    "from sklearn.pipeline import make_pipeline\n",
    "from sklearn.metrics import mean_absolute_error"
   ]
  },
  {
   "cell_type": "markdown",
   "id": "cb3a450c-d704-4302-a4d6-e9e3300b04d0",
   "metadata": {
    "jp-MarkdownHeadingCollapsed": true,
    "tags": []
   },
   "source": [
    "## **🔸 Polynomial Regression (Univariate)**"
   ]
  },
  {
   "cell_type": "markdown",
   "id": "f5016010-9bf9-4cdc-bee1-8461b14789bb",
   "metadata": {
    "jp-MarkdownHeadingCollapsed": true,
    "tags": []
   },
   "source": [
    "### Functions"
   ]
  },
  {
   "cell_type": "code",
   "execution_count": null,
   "id": "bc9169c1-88e2-4462-afea-55b2fbe98a31",
   "metadata": {},
   "outputs": [],
   "source": [
    "def polynomial(x):\n",
    "    phi_x = np.array([x**i for i in range(d+1)])\n",
    "    phi_x = phi_x[..., 0].T\n",
    "    return phi_x"
   ]
  },
  {
   "cell_type": "code",
   "execution_count": null,
   "id": "bab43734-3b20-4f70-b52d-5294ec58c1ee",
   "metadata": {},
   "outputs": [],
   "source": [
    "def linear_regression(x, w):\n",
    "    y_hat = x @ w\n",
    "    return y_hat"
   ]
  },
  {
   "cell_type": "code",
   "execution_count": null,
   "id": "4d969c01-ae33-4894-8d6e-54b0bc089892",
   "metadata": {},
   "outputs": [],
   "source": [
    "def mse(y, y_hat):\n",
    "    loss = np.mean((y - y_hat)**2)\n",
    "    return loss"
   ]
  },
  {
   "cell_type": "code",
   "execution_count": null,
   "id": "d4ede658-80a0-4577-a528-0528d9384c4a",
   "metadata": {},
   "outputs": [],
   "source": [
    "def gradient(x, y, y_hat):\n",
    "    grads = 2*(x.T @ (y_hat - y)) / y.shape[0]\n",
    "    return grads"
   ]
  },
  {
   "cell_type": "code",
   "execution_count": null,
   "id": "e20bae21-8dd5-4fc0-81ff-58ff07d05ab8",
   "metadata": {},
   "outputs": [],
   "source": [
    "def gradient_descent(w, eta, grads):\n",
    "    w -= eta*grads\n",
    "    return w"
   ]
  },
  {
   "cell_type": "code",
   "execution_count": null,
   "id": "8c9189a9-4e12-41d0-b891-70b8a1c358e2",
   "metadata": {},
   "outputs": [],
   "source": [
    "def mae(y, y_hat):\n",
    "    loss = np.mean(np.abs(y - y_hat))\n",
    "    return loss"
   ]
  },
  {
   "cell_type": "code",
   "execution_count": null,
   "id": "2a04c5d6-8d2a-4c59-9a75-632c708bef15",
   "metadata": {},
   "outputs": [],
   "source": [
    "def r2(y, y_hat):\n",
    "    return 1 - np.sum((y - y_hat)**2) / np.sum((y - y.mean())**2)"
   ]
  },
  {
   "cell_type": "markdown",
   "id": "7dc3743b-72e8-4012-919b-0ae3d56f11d2",
   "metadata": {
    "jp-MarkdownHeadingCollapsed": true,
    "tags": []
   },
   "source": [
    "### Train"
   ]
  },
  {
   "cell_type": "markdown",
   "id": "7eb5d74f-684e-41b2-8992-13772501444b",
   "metadata": {
    "jp-MarkdownHeadingCollapsed": true,
    "tags": []
   },
   "source": [
    "#### - Initialization"
   ]
  },
  {
   "cell_type": "code",
   "execution_count": null,
   "id": "92b2f7ac-e2d9-4759-ab20-73e7fb6a3927",
   "metadata": {},
   "outputs": [],
   "source": [
    "d = 2\n",
    "\n",
    "w = np.random.randn(d+1, 1)\n",
    "print(w.shape)\n",
    "\n",
    "eta = 0.5\n",
    "n_epochs = 2000"
   ]
  },
  {
   "cell_type": "markdown",
   "id": "d62b0d38-ce34-471f-86a0-a904fc9a5c0c",
   "metadata": {
    "jp-MarkdownHeadingCollapsed": true,
    "tags": []
   },
   "source": [
    "#### - Load Dataset"
   ]
  },
  {
   "cell_type": "code",
   "execution_count": null,
   "id": "03161f98-7b19-4ac0-8b21-728ba61a4a93",
   "metadata": {},
   "outputs": [],
   "source": [
    "df = pd.read_csv('data/auto-train-preprocessed.csv')\n",
    "train_set = np.array(df)\n",
    "\n",
    "x_train = train_set[:, :-1]\n",
    "y_train = train_set[:, -1:]\n",
    "\n",
    "x_train.shape, y_train.shape"
   ]
  },
  {
   "cell_type": "code",
   "execution_count": null,
   "id": "2d935978-29ea-4f65-9e52-ff8653d3688b",
   "metadata": {},
   "outputs": [],
   "source": [
    "phi_x_train = polynomial(x_train)\n",
    "phi_x_train.shape"
   ]
  },
  {
   "cell_type": "code",
   "execution_count": null,
   "id": "95ab87ca-6fec-4d43-833d-078c579a81d3",
   "metadata": {},
   "outputs": [],
   "source": [
    "df"
   ]
  },
  {
   "cell_type": "markdown",
   "id": "742073f2-9e6c-48e0-8068-595afeb41627",
   "metadata": {
    "jp-MarkdownHeadingCollapsed": true,
    "tags": []
   },
   "source": [
    "#### - Main"
   ]
  },
  {
   "cell_type": "code",
   "execution_count": null,
   "id": "00f74806-bf2b-45e7-b232-5cdcf0f9b76a",
   "metadata": {},
   "outputs": [],
   "source": [
    "error_hist = []\n",
    "\n",
    "for epoch in range(n_epochs):\n",
    "    # predictions\n",
    "    y_hat = linear_regression(phi_x_train, w)\n",
    "    \n",
    "    # loss\n",
    "    e = mse(y_train, y_hat)\n",
    "    error_hist.append(e)\n",
    "    \n",
    "    # gradients\n",
    "    grads = gradient(phi_x_train, y_train, y_hat)\n",
    "    \n",
    "    # gradient descent\n",
    "    w = gradient_descent(w, eta, grads)\n",
    "    \n",
    "    if (epoch+1) % 100 == 0:\n",
    "        print(f'Epoch={epoch}, \\t E={e:.4},\\t w={w.T[0]}')"
   ]
  },
  {
   "cell_type": "markdown",
   "id": "f3f0060b-856d-4d2b-98a1-11858974377e",
   "metadata": {
    "jp-MarkdownHeadingCollapsed": true,
    "tags": []
   },
   "source": [
    "### Learning curve"
   ]
  },
  {
   "cell_type": "code",
   "execution_count": null,
   "id": "fa6e87f9-7468-435e-a21b-6b81466566f8",
   "metadata": {},
   "outputs": [],
   "source": [
    "plt.plot(error_hist)"
   ]
  },
  {
   "cell_type": "markdown",
   "id": "f8a09f5a-21d7-43ad-8cfd-58eee10896b5",
   "metadata": {
    "jp-MarkdownHeadingCollapsed": true,
    "tags": []
   },
   "source": [
    "### Save model"
   ]
  },
  {
   "cell_type": "code",
   "execution_count": null,
   "id": "28c93c82-ac58-447a-8df7-89a2f6afe7c4",
   "metadata": {},
   "outputs": [],
   "source": [
    "np.save('polynomial-linear-regression-univariate', w)"
   ]
  },
  {
   "cell_type": "markdown",
   "id": "a2ee335c-2411-4599-a214-b7990416adad",
   "metadata": {
    "jp-MarkdownHeadingCollapsed": true,
    "tags": []
   },
   "source": [
    "### Test"
   ]
  },
  {
   "cell_type": "code",
   "execution_count": null,
   "id": "6570c79a-491b-4d8f-9f6e-be4cc3e6882b",
   "metadata": {},
   "outputs": [],
   "source": [
    "df = pd.read_csv('data/auto-test-preprocessed.csv')\n",
    "test_set = np.array(df)\n",
    "\n",
    "x_test = test_set[:, :-1]\n",
    "y_test = test_set[:, -1:]\n",
    "\n",
    "x_test.shape, y_test.shape"
   ]
  },
  {
   "cell_type": "code",
   "execution_count": null,
   "id": "2251079d-3745-483e-8ff7-3aaf2ed1d48c",
   "metadata": {},
   "outputs": [],
   "source": [
    "phi_x_test = polynomial(x_test)\n",
    "phi_x_test.shape"
   ]
  },
  {
   "cell_type": "code",
   "execution_count": null,
   "id": "940cf771-3a18-4f63-a750-8da5d3ad8541",
   "metadata": {},
   "outputs": [],
   "source": [
    "y_hat_test = linear_regression(phi_x_test, w)\n",
    "y_hat_test.shape"
   ]
  },
  {
   "cell_type": "code",
   "execution_count": null,
   "id": "dbcd736c-ad50-4add-a896-384ea866c11d",
   "metadata": {},
   "outputs": [],
   "source": [
    "mae(y_test, y_hat_test)"
   ]
  },
  {
   "cell_type": "code",
   "execution_count": null,
   "id": "6d30fde5-e6a4-448f-b21c-386e0f3a0028",
   "metadata": {
    "tags": []
   },
   "outputs": [],
   "source": [
    "r2(y_test, y_hat_test)"
   ]
  },
  {
   "cell_type": "markdown",
   "id": "eabe6659-4c42-44cb-a18d-580b85142214",
   "metadata": {
    "jp-MarkdownHeadingCollapsed": true,
    "tags": []
   },
   "source": [
    "### Visualize"
   ]
  },
  {
   "cell_type": "code",
   "execution_count": null,
   "id": "5b6baf7d-47e3-4608-8a0c-dc9e6f3dde1e",
   "metadata": {},
   "outputs": [],
   "source": [
    "x = np.linspace(x_train.min(), x_train.max(), 100)[:, None]\n",
    "xp = polynomial(x)\n",
    "y_hat = linear_regression(xp, w)\n",
    "\n",
    "plt.scatter(x_train, y_train)\n",
    "plt.scatter(x_test, y_test)\n",
    "plt.plot(x, y_hat, 'r', linewidth=3)"
   ]
  },
  {
   "cell_type": "markdown",
   "id": "573cbfc1-1383-434e-88cf-06ca27317f83",
   "metadata": {
    "jp-MarkdownHeadingCollapsed": true,
    "tags": []
   },
   "source": [
    "## **🔸 Polynomial Regression (Multivariate)**"
   ]
  },
  {
   "cell_type": "markdown",
   "id": "e53841b4-00d0-4526-81ac-46e5b139f87c",
   "metadata": {
    "jp-MarkdownHeadingCollapsed": true,
    "tags": []
   },
   "source": [
    "### Dataset"
   ]
  },
  {
   "cell_type": "markdown",
   "id": "7247a9e4-058b-40f9-8809-69252e2b02c5",
   "metadata": {
    "jp-MarkdownHeadingCollapsed": true,
    "tags": []
   },
   "source": [
    "- #### Train"
   ]
  },
  {
   "cell_type": "code",
   "execution_count": null,
   "id": "bf939401-6235-4402-9ce6-fe83ee18b25f",
   "metadata": {},
   "outputs": [],
   "source": [
    "df = pd.read_csv('data/auto-train-multi.csv')\n",
    "train_set = np.array(df)\n",
    "\n",
    "x_train = train_set[:, :-1]\n",
    "y_train = train_set[:, -1:]\n",
    "\n",
    "x_train.shape, y_train.shape"
   ]
  },
  {
   "cell_type": "markdown",
   "id": "5f365786-629f-412e-aca2-0bfce402955a",
   "metadata": {
    "jp-MarkdownHeadingCollapsed": true,
    "tags": []
   },
   "source": [
    "- #### Test"
   ]
  },
  {
   "cell_type": "code",
   "execution_count": null,
   "id": "2ed8a56c-176d-497a-b685-f37e7e6206aa",
   "metadata": {},
   "outputs": [],
   "source": [
    "df = pd.read_csv('data/auto-test-multi.csv')\n",
    "test_set = np.array(df)\n",
    "\n",
    "x_test = test_set[:, :-1]\n",
    "y_test = test_set[:, -1:]\n",
    "\n",
    "x_test.shape, y_test.shape"
   ]
  },
  {
   "cell_type": "code",
   "execution_count": null,
   "id": "509a02d1-8d74-4312-894b-3d7aa9673878",
   "metadata": {},
   "outputs": [],
   "source": [
    "df.head()"
   ]
  },
  {
   "cell_type": "markdown",
   "id": "c2efe541-f241-46b0-8ae2-1ffa0ae6c39e",
   "metadata": {},
   "source": [
    "- #### Visualize"
   ]
  },
  {
   "cell_type": "code",
   "execution_count": null,
   "id": "f6b16909-43bc-4c63-89fc-303346fd21e8",
   "metadata": {},
   "outputs": [],
   "source": [
    "i = 5\n",
    "plt.scatter(x_train[:, i], y_train)\n",
    "plt.scatter(x_test[:, i], y_test)"
   ]
  },
  {
   "cell_type": "markdown",
   "id": "5f7b1a1d-b580-488e-8ccd-74774d9f5373",
   "metadata": {
    "jp-MarkdownHeadingCollapsed": true,
    "tags": []
   },
   "source": [
    "### Polynomial function"
   ]
  },
  {
   "cell_type": "code",
   "execution_count": null,
   "id": "1b8a7c62-38fd-4e5a-bdd5-44579a7e85b0",
   "metadata": {},
   "outputs": [],
   "source": [
    "poly = PolynomialFeatures(degree=2)"
   ]
  },
  {
   "cell_type": "code",
   "execution_count": null,
   "id": "bc1781ae-2538-4d05-a525-be1f6b3af3ca",
   "metadata": {},
   "outputs": [],
   "source": [
    "x_train_poly = poly.fit_transform(x_train)\n",
    "x_test_poly = poly.transform(x_test)\n",
    "x_train_poly.shape, x_test_poly.shape"
   ]
  },
  {
   "cell_type": "markdown",
   "id": "3d0c70c1-2cbc-4d83-88e4-7799d96eb0c1",
   "metadata": {
    "jp-MarkdownHeadingCollapsed": true,
    "tags": []
   },
   "source": [
    "### Linear Regression"
   ]
  },
  {
   "cell_type": "code",
   "execution_count": null,
   "id": "d227dcef-d0d5-43c6-b3a2-73fb15ec376d",
   "metadata": {},
   "outputs": [],
   "source": [
    "model = LinearRegression()"
   ]
  },
  {
   "cell_type": "code",
   "execution_count": null,
   "id": "cdfb8641-4e5e-4c68-8999-e0d51a592844",
   "metadata": {},
   "outputs": [],
   "source": [
    "model.fit(x_train_poly, y_train)"
   ]
  },
  {
   "cell_type": "code",
   "execution_count": null,
   "id": "edb4bd45-beff-4cc3-a17d-f874145a2d91",
   "metadata": {},
   "outputs": [],
   "source": [
    "model.coef_.shape, model.intercept_"
   ]
  },
  {
   "cell_type": "code",
   "execution_count": null,
   "id": "9becc7f9-d673-4ada-88f0-63d738c1a652",
   "metadata": {},
   "outputs": [],
   "source": [
    "model.score(x_train_poly, y_train)"
   ]
  },
  {
   "cell_type": "code",
   "execution_count": null,
   "id": "dd583219-f7d5-4fa4-a411-fa7c28c1abf8",
   "metadata": {},
   "outputs": [],
   "source": [
    "model.score(x_test_poly, y_test)"
   ]
  },
  {
   "cell_type": "markdown",
   "id": "1df98e3a-1e0d-4e2c-a728-9ba12c924d49",
   "metadata": {
    "jp-MarkdownHeadingCollapsed": true,
    "tags": []
   },
   "source": [
    "### Pipeline"
   ]
  },
  {
   "cell_type": "code",
   "execution_count": null,
   "id": "f16f8cb4-d129-42be-8e0b-1bcf795392b6",
   "metadata": {},
   "outputs": [],
   "source": [
    "model_pipline = make_pipeline(PolynomialFeatures(), \n",
    "                              LinearRegression())\n",
    "model_pipline"
   ]
  },
  {
   "cell_type": "code",
   "execution_count": null,
   "id": "3e13ae22-b0c7-432c-9761-cc410f597258",
   "metadata": {},
   "outputs": [],
   "source": [
    "model_pipline.fit(x_train, y_train)"
   ]
  },
  {
   "cell_type": "code",
   "execution_count": null,
   "id": "d5004af3-db67-47e0-b7df-0a781a720d99",
   "metadata": {},
   "outputs": [],
   "source": [
    "model_pipline.score(x_train, y_train)"
   ]
  },
  {
   "cell_type": "code",
   "execution_count": null,
   "id": "2f8157de-df6c-41f6-a400-8610372978f5",
   "metadata": {},
   "outputs": [],
   "source": [
    "model_pipline.score(x_test, y_test)"
   ]
  },
  {
   "cell_type": "markdown",
   "id": "21ebbc1f-d9fd-4cf8-8800-d0f84592c139",
   "metadata": {
    "jp-MarkdownHeadingCollapsed": true,
    "tags": []
   },
   "source": [
    "## **🔸 Closed-form Solution (Exercise)**"
   ]
  },
  {
   "cell_type": "markdown",
   "id": "506c8be2-06b4-401b-87cb-d74715c3dcb9",
   "metadata": {
    "jp-MarkdownHeadingCollapsed": true,
    "tags": []
   },
   "source": [
    "- #### Train set"
   ]
  },
  {
   "cell_type": "code",
   "execution_count": null,
   "id": "99c83de8-254e-4a80-bbb1-17c2df5c3e8d",
   "metadata": {},
   "outputs": [],
   "source": [
    "df = pd.read_csv('data/auto-train-multi.csv')\n",
    "train_set = np.array(df)\n",
    "\n",
    "x_train = train_set[:, :-1]\n",
    "y_train = train_set[:, -1:]\n",
    "\n",
    "x_train.shape, y_train.shape"
   ]
  },
  {
   "cell_type": "markdown",
   "id": "fc47e37d-f940-4b33-a7f4-755676b6d793",
   "metadata": {
    "jp-MarkdownHeadingCollapsed": true,
    "tags": []
   },
   "source": [
    "- #### Test set"
   ]
  },
  {
   "cell_type": "code",
   "execution_count": null,
   "id": "f43de4ab-4fb2-41fb-9369-2ce29e65f622",
   "metadata": {},
   "outputs": [],
   "source": [
    "df = pd.read_csv('data/auto-test-multi.csv')\n",
    "test_set = np.array(df)\n",
    "\n",
    "x_test = test_set[:, :-1]\n",
    "y_test = test_set[:, -1:]\n",
    "\n",
    "x_test.shape, y_test.shape"
   ]
  },
  {
   "cell_type": "code",
   "execution_count": null,
   "id": "73f9430d-fbb2-461f-93d5-ffe762a4e8d5",
   "metadata": {},
   "outputs": [],
   "source": [
    "X = x_train.copy()\n",
    "y = y_train.copy()\n",
    "X.shape, y.shape"
   ]
  },
  {
   "cell_type": "markdown",
   "id": "31c839cc-bf8f-442c-a3f9-691b1f7876e9",
   "metadata": {},
   "source": [
    "- $\n",
    "\\begin{align}\n",
    "w &= (X^TX)^{-1} X^T y\n",
    "\\end{align}\n",
    "$"
   ]
  },
  {
   "cell_type": "code",
   "execution_count": null,
   "id": "a87b0e66-f362-402a-aa84-5d6e5c0286e8",
   "metadata": {},
   "outputs": [],
   "source": [
    "phi_X = ..."
   ]
  },
  {
   "cell_type": "code",
   "execution_count": null,
   "id": "be33b195-7a0c-4caf-b49b-d0cb4d93a154",
   "metadata": {},
   "outputs": [],
   "source": [
    "wc = np.linalg.inv(... @ ...) @ ... @ y\n",
    "wc"
   ]
  },
  {
   "cell_type": "markdown",
   "id": "5298bcbb-ae90-49db-824a-497dc06228d8",
   "metadata": {},
   "source": [
    "- #### Test"
   ]
  },
  {
   "cell_type": "code",
   "execution_count": null,
   "id": "de59554a-d4f2-471d-83b5-d4d271b905de",
   "metadata": {},
   "outputs": [],
   "source": []
  },
  {
   "cell_type": "markdown",
   "id": "6c4c6ab7-74f7-456d-b72b-bff314746c4c",
   "metadata": {
    "tags": []
   },
   "source": [
    "## **🔸Feature Transform**"
   ]
  },
  {
   "cell_type": "markdown",
   "id": "4a2e5ce4-509b-466c-8a66-301b1359b667",
   "metadata": {},
   "source": [
    "- ### Spline Transform\n",
    "- ### Power Transforms\n",
    "- ### Basis Functions ($log$, $a^x$, $x^k$)\n",
    "- ### Quantile Transform"
   ]
  },
  {
   "cell_type": "markdown",
   "id": "0ac44515-ad3f-4be6-90de-7c06a946a170",
   "metadata": {
    "jp-MarkdownHeadingCollapsed": true,
    "tags": []
   },
   "source": [
    "### Dataset"
   ]
  },
  {
   "cell_type": "code",
   "execution_count": 41,
   "id": "676af9e9-1010-4826-94d3-f6ae4a18a6e4",
   "metadata": {},
   "outputs": [
    {
     "data": {
      "text/plain": [
       "((352, 1), (352, 1))"
      ]
     },
     "execution_count": 41,
     "metadata": {},
     "output_type": "execute_result"
    }
   ],
   "source": [
    "df = pd.read_csv('data/auto-train-preprocessed.csv')\n",
    "train_set = np.array(df)\n",
    "\n",
    "x_train = train_set[:, :-1]\n",
    "y_train = train_set[:, -1:]\n",
    "\n",
    "x_train.shape, y_train.shape"
   ]
  },
  {
   "cell_type": "code",
   "execution_count": 42,
   "id": "22c94142-321f-4ec8-bf5e-8d56c528e8c3",
   "metadata": {},
   "outputs": [
    {
     "data": {
      "text/plain": [
       "((40, 1), (40, 1))"
      ]
     },
     "execution_count": 42,
     "metadata": {},
     "output_type": "execute_result"
    }
   ],
   "source": [
    "df = pd.read_csv('data/auto-test-preprocessed.csv')\n",
    "test_set = np.array(df)\n",
    "\n",
    "x_test = test_set[:, :-1]\n",
    "y_test = test_set[:, -1:]\n",
    "\n",
    "x_test.shape, y_test.shape"
   ]
  },
  {
   "cell_type": "markdown",
   "id": "07c7756f-c7ff-4234-9eff-8d1153b33ff4",
   "metadata": {
    "jp-MarkdownHeadingCollapsed": true,
    "tags": []
   },
   "source": [
    "### Train"
   ]
  },
  {
   "cell_type": "code",
   "execution_count": 143,
   "id": "a85c126c-1dd3-4c37-a939-0fe76ab12286",
   "metadata": {
    "tags": []
   },
   "outputs": [
    {
     "data": {
      "text/html": [
       "<style>#sk-container-id-27 {color: black;background-color: white;}#sk-container-id-27 pre{padding: 0;}#sk-container-id-27 div.sk-toggleable {background-color: white;}#sk-container-id-27 label.sk-toggleable__label {cursor: pointer;display: block;width: 100%;margin-bottom: 0;padding: 0.3em;box-sizing: border-box;text-align: center;}#sk-container-id-27 label.sk-toggleable__label-arrow:before {content: \"▸\";float: left;margin-right: 0.25em;color: #696969;}#sk-container-id-27 label.sk-toggleable__label-arrow:hover:before {color: black;}#sk-container-id-27 div.sk-estimator:hover label.sk-toggleable__label-arrow:before {color: black;}#sk-container-id-27 div.sk-toggleable__content {max-height: 0;max-width: 0;overflow: hidden;text-align: left;background-color: #f0f8ff;}#sk-container-id-27 div.sk-toggleable__content pre {margin: 0.2em;color: black;border-radius: 0.25em;background-color: #f0f8ff;}#sk-container-id-27 input.sk-toggleable__control:checked~div.sk-toggleable__content {max-height: 200px;max-width: 100%;overflow: auto;}#sk-container-id-27 input.sk-toggleable__control:checked~label.sk-toggleable__label-arrow:before {content: \"▾\";}#sk-container-id-27 div.sk-estimator input.sk-toggleable__control:checked~label.sk-toggleable__label {background-color: #d4ebff;}#sk-container-id-27 div.sk-label input.sk-toggleable__control:checked~label.sk-toggleable__label {background-color: #d4ebff;}#sk-container-id-27 input.sk-hidden--visually {border: 0;clip: rect(1px 1px 1px 1px);clip: rect(1px, 1px, 1px, 1px);height: 1px;margin: -1px;overflow: hidden;padding: 0;position: absolute;width: 1px;}#sk-container-id-27 div.sk-estimator {font-family: monospace;background-color: #f0f8ff;border: 1px dotted black;border-radius: 0.25em;box-sizing: border-box;margin-bottom: 0.5em;}#sk-container-id-27 div.sk-estimator:hover {background-color: #d4ebff;}#sk-container-id-27 div.sk-parallel-item::after {content: \"\";width: 100%;border-bottom: 1px solid gray;flex-grow: 1;}#sk-container-id-27 div.sk-label:hover label.sk-toggleable__label {background-color: #d4ebff;}#sk-container-id-27 div.sk-serial::before {content: \"\";position: absolute;border-left: 1px solid gray;box-sizing: border-box;top: 0;bottom: 0;left: 50%;z-index: 0;}#sk-container-id-27 div.sk-serial {display: flex;flex-direction: column;align-items: center;background-color: white;padding-right: 0.2em;padding-left: 0.2em;position: relative;}#sk-container-id-27 div.sk-item {position: relative;z-index: 1;}#sk-container-id-27 div.sk-parallel {display: flex;align-items: stretch;justify-content: center;background-color: white;position: relative;}#sk-container-id-27 div.sk-item::before, #sk-container-id-27 div.sk-parallel-item::before {content: \"\";position: absolute;border-left: 1px solid gray;box-sizing: border-box;top: 0;bottom: 0;left: 50%;z-index: -1;}#sk-container-id-27 div.sk-parallel-item {display: flex;flex-direction: column;z-index: 1;position: relative;background-color: white;}#sk-container-id-27 div.sk-parallel-item:first-child::after {align-self: flex-end;width: 50%;}#sk-container-id-27 div.sk-parallel-item:last-child::after {align-self: flex-start;width: 50%;}#sk-container-id-27 div.sk-parallel-item:only-child::after {width: 0;}#sk-container-id-27 div.sk-dashed-wrapped {border: 1px dashed gray;margin: 0 0.4em 0.5em 0.4em;box-sizing: border-box;padding-bottom: 0.4em;background-color: white;}#sk-container-id-27 div.sk-label label {font-family: monospace;font-weight: bold;display: inline-block;line-height: 1.2em;}#sk-container-id-27 div.sk-label-container {text-align: center;}#sk-container-id-27 div.sk-container {/* jupyter's `normalize.less` sets `[hidden] { display: none; }` but bootstrap.min.css set `[hidden] { display: none !important; }` so we also need the `!important` here to be able to override the default hidden behavior on the sphinx rendered scikit-learn.org. See: https://github.com/scikit-learn/scikit-learn/issues/21755 */display: inline-block !important;position: relative;}#sk-container-id-27 div.sk-text-repr-fallback {display: none;}</style><div id=\"sk-container-id-27\" class=\"sk-top-container\"><div class=\"sk-text-repr-fallback\"><pre>Pipeline(steps=[(&#x27;quantiletransformer&#x27;,\n",
       "                 QuantileTransformer(n_quantiles=20,\n",
       "                                     output_distribution=&#x27;normal&#x27;)),\n",
       "                (&#x27;linearregression&#x27;, LinearRegression())])</pre><b>In a Jupyter environment, please rerun this cell to show the HTML representation or trust the notebook. <br />On GitHub, the HTML representation is unable to render, please try loading this page with nbviewer.org.</b></div><div class=\"sk-container\" hidden><div class=\"sk-item sk-dashed-wrapped\"><div class=\"sk-label-container\"><div class=\"sk-label sk-toggleable\"><input class=\"sk-toggleable__control sk-hidden--visually\" id=\"sk-estimator-id-61\" type=\"checkbox\" ><label for=\"sk-estimator-id-61\" class=\"sk-toggleable__label sk-toggleable__label-arrow\">Pipeline</label><div class=\"sk-toggleable__content\"><pre>Pipeline(steps=[(&#x27;quantiletransformer&#x27;,\n",
       "                 QuantileTransformer(n_quantiles=20,\n",
       "                                     output_distribution=&#x27;normal&#x27;)),\n",
       "                (&#x27;linearregression&#x27;, LinearRegression())])</pre></div></div></div><div class=\"sk-serial\"><div class=\"sk-item\"><div class=\"sk-estimator sk-toggleable\"><input class=\"sk-toggleable__control sk-hidden--visually\" id=\"sk-estimator-id-62\" type=\"checkbox\" ><label for=\"sk-estimator-id-62\" class=\"sk-toggleable__label sk-toggleable__label-arrow\">QuantileTransformer</label><div class=\"sk-toggleable__content\"><pre>QuantileTransformer(n_quantiles=20, output_distribution=&#x27;normal&#x27;)</pre></div></div></div><div class=\"sk-item\"><div class=\"sk-estimator sk-toggleable\"><input class=\"sk-toggleable__control sk-hidden--visually\" id=\"sk-estimator-id-63\" type=\"checkbox\" ><label for=\"sk-estimator-id-63\" class=\"sk-toggleable__label sk-toggleable__label-arrow\">LinearRegression</label><div class=\"sk-toggleable__content\"><pre>LinearRegression()</pre></div></div></div></div></div></div></div>"
      ],
      "text/plain": [
       "Pipeline(steps=[('quantiletransformer',\n",
       "                 QuantileTransformer(n_quantiles=20,\n",
       "                                     output_distribution='normal')),\n",
       "                ('linearregression', LinearRegression())])"
      ]
     },
     "execution_count": 143,
     "metadata": {},
     "output_type": "execute_result"
    }
   ],
   "source": [
    "alpha = 3\n",
    "\n",
    "model = make_pipeline(\n",
    "    # SplineTransformer(n_knots=4, degree=2), \n",
    "    # PowerTransformer(),\n",
    "    # FunctionTransformer(lambda x: np.exp(-alpha*x)),\n",
    "    # todo: 1/(x+0.5)^2.3\n",
    "    QuantileTransformer(n_quantiles=20, output_distribution='normal'),\n",
    "    LinearRegression())\n",
    "\n",
    "model.fit(x_train, y_train)"
   ]
  },
  {
   "cell_type": "markdown",
   "id": "653d705e-d290-42d7-b964-d227da37d86c",
   "metadata": {
    "jp-MarkdownHeadingCollapsed": true,
    "tags": []
   },
   "source": [
    "### Test"
   ]
  },
  {
   "cell_type": "code",
   "execution_count": 144,
   "id": "c84ed88a-6b30-42b7-8c3e-9d2ec19319a7",
   "metadata": {},
   "outputs": [
    {
     "data": {
      "text/plain": [
       "(0.5750317298585719, 0.414173439287596)"
      ]
     },
     "execution_count": 144,
     "metadata": {},
     "output_type": "execute_result"
    }
   ],
   "source": [
    "model.score(x_train, y_train), model.score(x_test, y_test)"
   ]
  },
  {
   "cell_type": "code",
   "execution_count": 145,
   "id": "821d979f-6cb8-4dfa-8c3c-66db49aab3c6",
   "metadata": {},
   "outputs": [
    {
     "data": {
      "text/plain": [
       "0.098641403853869"
      ]
     },
     "execution_count": 145,
     "metadata": {},
     "output_type": "execute_result"
    }
   ],
   "source": [
    "y_hat = model.predict(x_train)\n",
    "mean_absolute_error(y_hat, y_train)"
   ]
  },
  {
   "cell_type": "code",
   "execution_count": 146,
   "id": "9dca79a3-0cce-4224-b6f4-905cd329e961",
   "metadata": {},
   "outputs": [
    {
     "data": {
      "text/plain": [
       "0.12218135660048339"
      ]
     },
     "execution_count": 146,
     "metadata": {},
     "output_type": "execute_result"
    }
   ],
   "source": [
    "y_hat = model.predict(x_test)\n",
    "mean_absolute_error(y_hat, y_test)"
   ]
  },
  {
   "cell_type": "markdown",
   "id": "e251dc5e-3ada-4de0-8542-6a852ad807c2",
   "metadata": {
    "jp-MarkdownHeadingCollapsed": true,
    "tags": []
   },
   "source": [
    "### Visualize"
   ]
  },
  {
   "cell_type": "code",
   "execution_count": 147,
   "id": "793c12c5-51e2-4fe5-b985-cc77c0b3d7c0",
   "metadata": {},
   "outputs": [
    {
     "data": {
      "text/plain": [
       "[<matplotlib.lines.Line2D at 0x2092bee8a00>]"
      ]
     },
     "execution_count": 147,
     "metadata": {},
     "output_type": "execute_result"
    },
    {
     "data": {
      "image/png": "[encoded data removed]",
      "text/plain": [
       "<Figure size 640x480 with 1 Axes>"
      ]
     },
     "metadata": {},
     "output_type": "display_data"
    }
   ],
   "source": [
    "x = np.linspace(x_train.min(), x_train.max(), 100)[:, None]\n",
    "y_hat = model.predict(x)\n",
    "\n",
    "plt.scatter(x_train, y_train)\n",
    "plt.scatter(x_test, y_test)\n",
    "plt.plot(x, y_hat, 'r', linewidth=3)"
   ]
  },
  {
   "cell_type": "markdown",
   "id": "1b62fb18-49bc-43c4-8115-1c7d9dc97683",
   "metadata": {
    "jp-MarkdownHeadingCollapsed": true,
    "tags": []
   },
   "source": [
    "### More about spline"
   ]
  },
  {
   "cell_type": "code",
   "execution_count": 69,
   "id": "bb2d6b30-cf9b-4795-a303-b2f15aabafec",
   "metadata": {},
   "outputs": [
    {
     "data": {
      "text/plain": [
       "array([-0.64855073, -0.32427537,  0.        ,  0.32427537,  0.64855073,\n",
       "        0.9728261 ,  1.29710147,  1.62137683])"
      ]
     },
     "execution_count": 69,
     "metadata": {},
     "output_type": "execute_result"
    }
   ],
   "source": [
    "model.named_steps['splinetransformer'].bsplines_[0].t"
   ]
  },
  {
   "cell_type": "code",
   "execution_count": 71,
   "id": "158e0612-8662-48f3-8f10-28408d5a0be1",
   "metadata": {},
   "outputs": [
    {
     "data": {
      "text/plain": [
       "'uniform'"
      ]
     },
     "execution_count": 71,
     "metadata": {},
     "output_type": "execute_result"
    }
   ],
   "source": [
    "spl = SplineTransformer()\n",
    "spl.fit(x_train, y_train)\n",
    "spl.knots"
   ]
  },
  {
   "cell_type": "markdown",
   "id": "a81a6eb1-1f0f-44e2-9bd8-eb20c91433d7",
   "metadata": {
    "jp-MarkdownHeadingCollapsed": true,
    "tags": []
   },
   "source": [
    "### More about power_transform"
   ]
  },
  {
   "cell_type": "code",
   "execution_count": 86,
   "id": "43d7b96d-604d-49b9-94bf-1929361c9f97",
   "metadata": {},
   "outputs": [
    {
     "data": {
      "text/plain": [
       "array([-2.26839811])"
      ]
     },
     "execution_count": 86,
     "metadata": {},
     "output_type": "execute_result"
    }
   ],
   "source": [
    "pt = PowerTransformer()\n",
    "pt.fit(x_train, y_train)\n",
    "pt.lambdas_"
   ]
  },
  {
   "cell_type": "code",
   "execution_count": 92,
   "id": "84dc3649-890b-4ed6-b330-4dc245a0f08b",
   "metadata": {},
   "outputs": [
    {
     "data": {
      "image/png": "[encoded data removed]",
      "text/plain": [
       "<Figure size 640x480 with 1 Axes>"
      ]
     },
     "metadata": {},
     "output_type": "display_data"
    }
   ],
   "source": [
    "plt.hist(x_train, bins=20);"
   ]
  },
  {
   "cell_type": "code",
   "execution_count": 93,
   "id": "7ef64633-8950-408f-ba88-cb42862cd5b2",
   "metadata": {},
   "outputs": [
    {
     "data": {
      "text/plain": [
       "(array([ 9.,  9., 36., 47., 73., 59., 30., 30., 42., 17.]),\n",
       " array([-2.43837389, -1.97982748, -1.52128108, -1.06273467, -0.60418827,\n",
       "        -0.14564187,  0.31290454,  0.77145094,  1.22999735,  1.68854375,\n",
       "         2.14709015]),\n",
       " <BarContainer object of 10 artists>)"
      ]
     },
     "execution_count": 93,
     "metadata": {},
     "output_type": "execute_result"
    },
    {
     "data": {
      "image/png": "[encoded data removed]",
      "text/plain": [
       "<Figure size 640x480 with 1 Axes>"
      ]
     },
     "metadata": {},
     "output_type": "display_data"
    }
   ],
   "source": [
    "x_transformed = pt.transform(x_train)\n",
    "plt.hist(x_transformed)"
   ]
  },
  {
   "cell_type": "code",
   "execution_count": 97,
   "id": "c8453f4c-f6b1-4c92-a1a9-e6e790b11e20",
   "metadata": {},
   "outputs": [
    {
     "data": {
      "image/png": "[encoded data removed]",
      "text/plain": [
       "<Figure size 640x480 with 1 Axes>"
      ]
     },
     "metadata": {},
     "output_type": "display_data"
    }
   ],
   "source": [
    "x = np.random.exponential(size=10000).reshape(-1, 1)\n",
    "plt.hist(x, bins=100);\n",
    "\n",
    "x_tr = pt.fit_transform(x)\n",
    "plt.hist(x_tr, bins=100);"
   ]
  },
  {
   "cell_type": "markdown",
   "id": "bde8de60-2e76-4e25-8931-6b7e0e3d9d32",
   "metadata": {
    "jp-MarkdownHeadingCollapsed": true,
    "tags": []
   },
   "source": [
    "### More about quantile"
   ]
  },
  {
   "cell_type": "code",
   "execution_count": 132,
   "id": "46d4b938-e753-4cf9-9718-d222ff6fb930",
   "metadata": {},
   "outputs": [
    {
     "data": {
      "text/plain": [
       "array([[0.        ],\n",
       "       [0.20652175],\n",
       "       [0.33695656],\n",
       "       [0.9728261 ]])"
      ]
     },
     "execution_count": 132,
     "metadata": {},
     "output_type": "execute_result"
    }
   ],
   "source": [
    "qt = QuantileTransformer(n_quantiles=4, output_distribution='normal')\n",
    "qt.fit(x_train)\n",
    "qt.quantiles_"
   ]
  }
 ],
 "metadata": {
  "kernelspec": {
   "display_name": "Python 3 (ipykernel)",
   "language": "python",
   "name": "python3"
  },
  "language_info": {
   "codemirror_mode": {
    "name": "ipython",
    "version": 3
   },
   "file_extension": ".py",
   "mimetype": "text/x-python",
   "name": "python",
   "nbconvert_exporter": "python",
   "pygments_lexer": "ipython3",
   "version": "3.9.15"
  }
 },
 "nbformat": 4,
 "nbformat_minor": 5
}
