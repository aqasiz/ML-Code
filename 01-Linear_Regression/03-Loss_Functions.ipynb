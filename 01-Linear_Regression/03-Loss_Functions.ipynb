{
 "cells": [
  {
   "cell_type": "markdown",
   "metadata": {},
   "source": [
    "### **🟡 Import Libraries**"
   ]
  },
  {
   "cell_type": "code",
   "execution_count": 130,
   "metadata": {},
   "outputs": [],
   "source": [
    "import pandas as pd\n",
    "import numpy as np \n",
    "import matplotlib.pyplot as plt"
   ]
  },
  {
   "cell_type": "markdown",
   "metadata": {},
   "source": [
    "🟡 Load and Read Dataset"
   ]
  },
  {
   "cell_type": "code",
   "execution_count": 131,
   "metadata": {
    "tags": []
   },
   "outputs": [],
   "source": [
    "data = pd.read_csv ('.\\dataset\\student_loan_train.csv')\n",
    "#data"
   ]
  },
  {
   "cell_type": "markdown",
   "metadata": {},
   "source": [
    "🟡 Convert to Numpy Array"
   ]
  },
  {
   "cell_type": "code",
   "execution_count": 132,
   "metadata": {},
   "outputs": [],
   "source": [
    "train_set = np.array(data)\n",
    "#train_set"
   ]
  },
  {
   "cell_type": "code",
   "execution_count": 133,
   "metadata": {},
   "outputs": [
    {
     "data": {
      "text/plain": [
       "(10, 2)"
      ]
     },
     "execution_count": 133,
     "metadata": {},
     "output_type": "execute_result"
    }
   ],
   "source": [
    "train_set.shape     #retrieves the dimensions (e.g., number of rows and columns) of a dataset"
   ]
  },
  {
   "cell_type": "markdown",
   "metadata": {},
   "source": [
    "🟡 Split x and y"
   ]
  },
  {
   "cell_type": "code",
   "execution_count": 134,
   "metadata": {},
   "outputs": [],
   "source": [
    "x_train = train_set [: , 0]     #The code snippet assigns the values of the first column of the \"train_set\" data to the variable \"x_train\"\n",
    "#x_train     "
   ]
  },
  {
   "cell_type": "code",
   "execution_count": 135,
   "metadata": {},
   "outputs": [
    {
     "data": {
      "text/plain": [
       "array([ 347.1,  392.8,  478.8,  541.3,  633.3,  714.4,  803.5,  866.3,\n",
       "        959.9, 1071. ])"
      ]
     },
     "execution_count": 135,
     "metadata": {},
     "output_type": "execute_result"
    }
   ],
   "source": [
    "y_train = train_set [: , 1]     #The code snippet assigns the values of the second column of the \"train_set\" data to the variable \"y_train\"\n",
    "y_train     "
   ]
  },
  {
   "cell_type": "markdown",
   "metadata": {},
   "source": [
    "🟡 Visualize"
   ]
  },
  {
   "cell_type": "code",
   "execution_count": 136,
   "metadata": {},
   "outputs": [],
   "source": [
    "#plt.scatter (x_train, y_train)"
   ]
  },
  {
   "cell_type": "code",
   "execution_count": 137,
   "metadata": {},
   "outputs": [],
   "source": [
    "#plt.plot (x_train, y_train, 'o-')"
   ]
  },
  {
   "cell_type": "markdown",
   "metadata": {},
   "source": [
    "### **🔴 Model**"
   ]
  },
  {
   "cell_type": "code",
   "execution_count": 138,
   "metadata": {},
   "outputs": [],
   "source": [
    "def linear_regression (x, w0, w1):\n",
    "    y_hat = w1*x + w0\n",
    "    return y_hat\n",
    "\n",
    "# y_hat is the predicted or estimated value of the dependent variable\n",
    "# x is the independent variable\n",
    "# w1 is the coefficient (weight) associated with the independent variable x\n",
    "# w0 is the y-intercept  (the value of y when x is zero)."
   ]
  },
  {
   "cell_type": "markdown",
   "metadata": {},
   "source": [
    "🔴 Pass Data to the Model"
   ]
  },
  {
   "cell_type": "code",
   "execution_count": 139,
   "metadata": {},
   "outputs": [
    {
     "data": {
      "text/plain": [
       "(-0.4277996316114721, -0.022243202680763213)"
      ]
     },
     "execution_count": 139,
     "metadata": {},
     "output_type": "execute_result"
    }
   ],
   "source": [
    "w0 = np.random.randn()\n",
    "w1 = np.random.randn()\n",
    "w0, w1"
   ]
  },
  {
   "cell_type": "code",
   "execution_count": 140,
   "metadata": {},
   "outputs": [
    {
     "data": {
      "text/plain": [
       "array([-0.51677244, -0.53901565, -0.56125885, -0.58350205, -0.60574525,\n",
       "       -0.62798846, -0.65023166, -0.67247486, -0.69471806, -0.71696127])"
      ]
     },
     "execution_count": 140,
     "metadata": {},
     "output_type": "execute_result"
    }
   ],
   "source": [
    "y_hat = linear_regression (x_train, w0, w1)\n",
    "y_hat"
   ]
  },
  {
   "cell_type": "code",
   "execution_count": 141,
   "metadata": {},
   "outputs": [],
   "source": [
    "#plt.scatter (x_train, y_train)\n",
    "#plt.plot(x_train, y_hat, 'r')"
   ]
  },
  {
   "cell_type": "markdown",
   "metadata": {},
   "source": [
    "### **🔵 Loss Function**"
   ]
  },
  {
   "cell_type": "markdown",
   "metadata": {},
   "source": [
    "💥 Error = | Target Value - Predicted Value |\n",
    "<br>💥 Commonly loss functions used in regression:\n",
    "<br>💢 1- Mean Absolute Error (MAE)\n",
    "<br>💢 2- Mean Squared Error (MSE)\n",
    "<br>$\n",
    "\\begin{align}\n",
    "L &= \\frac{1}{n} \\sum_{i=1}^n (w_1 \\times x + w_0-y_i)^2\n",
    "\\end{align}\n",
    "$"
   ]
  },
  {
   "cell_type": "markdown",
   "metadata": {},
   "source": [
    "##### **🔵 Mean Squared Error (MSE)**"
   ]
  },
  {
   "cell_type": "markdown",
   "metadata": {},
   "source": [
    "$\n",
    "\\begin{align}\n",
    "MSE &= \\frac{1}{n} \\sum_{i=1}^n (\\hat{y}_i-y_i)^2\n",
    "\\end{align}\n",
    "$"
   ]
  },
  {
   "cell_type": "code",
   "execution_count": 142,
   "metadata": {},
   "outputs": [],
   "source": [
    "def mse(y_hat, y):\n",
    "    loss = np.mean((y_hat - y)**2)\n",
    "    return loss"
   ]
  },
  {
   "cell_type": "code",
   "execution_count": 143,
   "metadata": {},
   "outputs": [
    {
     "data": {
      "text/plain": [
       "518169.77908114594"
      ]
     },
     "execution_count": 143,
     "metadata": {},
     "output_type": "execute_result"
    }
   ],
   "source": [
    "mse(y_train, y_hat)"
   ]
  },
  {
   "cell_type": "markdown",
   "metadata": {},
   "source": [
    "##### **🔵 Mean Absolute Error (MAE)**"
   ]
  },
  {
   "cell_type": "markdown",
   "metadata": {},
   "source": [
    "$\n",
    "\\begin{align}\n",
    "MAE &= \\frac{1}{n} \\sum_{i=1}^n |\\hat{y}_i-y_i|\n",
    "\\end{align}\n",
    "$"
   ]
  },
  {
   "cell_type": "code",
   "execution_count": 144,
   "metadata": {},
   "outputs": [],
   "source": [
    "def mae(y, y_hat):\n",
    "    loss = np.mean(np.abs(y - y_hat))\n",
    "    return loss"
   ]
  },
  {
   "cell_type": "code",
   "execution_count": 145,
   "metadata": {},
   "outputs": [
    {
     "data": {
      "text/plain": [
       "681.456866854398"
      ]
     },
     "execution_count": 145,
     "metadata": {},
     "output_type": "execute_result"
    }
   ],
   "source": [
    "mae(y_train, y_hat)"
   ]
  },
  {
   "cell_type": "markdown",
   "metadata": {},
   "source": [
    "##### **🔵 Plot loss surface**"
   ]
  },
  {
   "cell_type": "markdown",
   "metadata": {},
   "source": [
    "###### **🔵 MSE**"
   ]
  },
  {
   "cell_type": "code",
   "execution_count": 146,
   "metadata": {},
   "outputs": [
    {
     "data": {
      "text/plain": [
       "((1000,), (1000,))"
      ]
     },
     "execution_count": 146,
     "metadata": {},
     "output_type": "execute_result"
    }
   ],
   "source": [
    "w0 = 0\n",
    "w1 = np.linspace(-100, 200, 1000)\n",
    "\n",
    "mse_loss = []\n",
    "for w1i in w1:\n",
    "    y_hati = linear_regression(x_train, w0, w1i)\n",
    "    mse_loss.append(mse(y_train, y_hati))\n",
    "mse_loss = np.array(mse_loss)\n",
    "\n",
    "mse_loss.shape, w1.shape"
   ]
  },
  {
   "cell_type": "code",
   "execution_count": 147,
   "metadata": {},
   "outputs": [
    {
     "name": "stdout",
     "output_type": "stream",
     "text": [
      "\n",
      " w1 value at minimum MSE loss: 80.18018018018017 \n",
      "\n"
     ]
    },
    {
     "data": {
      "image/png": "[encoded data removed]",
      "text/plain": [
       "<Figure size 640x480 with 1 Axes>"
      ]
     },
     "metadata": {},
     "output_type": "display_data"
    }
   ],
   "source": [
    "plt.plot(w1, mse_loss)\n",
    "\n",
    "loss_min_index = np.argmin(mse_loss)\n",
    "loss_min = mse_loss[loss_min_index]\n",
    "plt.scatter(w1[loss_min_index], loss_min, color='r')\n",
    "\n",
    "print(\"\\n w1 value at minimum MAE loss:\", w1[loss_min_index],\"\\n\")"
   ]
  },
  {
   "cell_type": "markdown",
   "metadata": {},
   "source": [
    "###### **🔵 MAE**"
   ]
  },
  {
   "cell_type": "code",
   "execution_count": 148,
   "metadata": {},
   "outputs": [
    {
     "data": {
      "text/plain": [
       "((1000,), (1000,))"
      ]
     },
     "execution_count": 148,
     "metadata": {},
     "output_type": "execute_result"
    }
   ],
   "source": [
    "w0 = 0\n",
    "w1 = np.linspace(-100, 200, 1000)\n",
    "\n",
    "mae_loss = []\n",
    "for w1i in w1:\n",
    "    y_hati = linear_regression(x_train, w0, w1i)\n",
    "    mae_loss.append(mae(y_train, y_hati))\n",
    "mae_loss = np.array(mae_loss)\n",
    "\n",
    "mae_loss.shape, w1.shape"
   ]
  },
  {
   "cell_type": "code",
   "execution_count": 149,
   "metadata": {},
   "outputs": [
    {
     "name": "stdout",
     "output_type": "stream",
     "text": [
      "\n",
      " w1 value at minimum MAE loss: 79.8798798798799 \n",
      "\n"
     ]
    },
    {
     "data": {
      "image/png": "[encoded data removed]",
      "text/plain": [
       "<Figure size 640x480 with 1 Axes>"
      ]
     },
     "metadata": {},
     "output_type": "display_data"
    }
   ],
   "source": [
    "plt.plot(w1, mae_loss)\n",
    "\n",
    "loss_min_index = np.argmin(mae_loss)\n",
    "loss_min = mae_loss[loss_min_index]\n",
    "plt.scatter(w1[loss_min_index], loss_min, color='r')\n",
    "\n",
    "print(\"\\n w1 value at minimum MAE loss:\", w1[loss_min_index],\"\\n\")"
   ]
  }
 ],
 "metadata": {
  "kernelspec": {
   "display_name": "Python 3",
   "language": "python",
   "name": "python3"
  },
  "language_info": {
   "codemirror_mode": {
    "name": "ipython",
    "version": 3
   },
   "file_extension": ".py",
   "mimetype": "text/x-python",
   "name": "python",
   "nbconvert_exporter": "python",
   "pygments_lexer": "ipython3",
   "version": "3.11.4"
  }
 },
 "nbformat": 4,
 "nbformat_minor": 2
}
