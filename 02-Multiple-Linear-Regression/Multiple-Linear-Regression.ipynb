{
 "cells": [
  {
   "cell_type": "markdown",
   "id": "76e4e8a2-dc8f-42ae-a69e-b2fe8c197535",
   "metadata": {},
   "source": [
    "# <font color='#FFE15D'>**Week 3: Multiple Linear Regression 📈**</font>"
   ]
  },
  {
   "cell_type": "markdown",
   "id": "b3c9a700-d1f2-4a6c-a602-838a6d8b008d",
   "metadata": {
    "jp-MarkdownHeadingCollapsed": true,
    "tags": []
   },
   "source": [
    "## **🔸 Imports**"
   ]
  },
  {
   "cell_type": "code",
   "execution_count": 59,
   "id": "a1b1d41f-27a4-48cb-a22c-8c6637ad63c2",
   "metadata": {},
   "outputs": [],
   "source": [
    "import pandas as pd\n",
    "import numpy as np\n",
    "import matplotlib.pyplot as plt\n",
    "\n",
    "# import sklearn\n",
    "# from sklearn import linear_model\n",
    "from sklearn.linear_model import LinearRegression, SGDRegressor"
   ]
  },
  {
   "cell_type": "markdown",
   "id": "755ca77f-2a2a-43d8-bd29-d144f6736753",
   "metadata": {
    "jp-MarkdownHeadingCollapsed": true,
    "tags": []
   },
   "source": [
    "## **🔸 Data**"
   ]
  },
  {
   "cell_type": "markdown",
   "id": "b8c4f33f-0d98-42f8-93aa-41883957fa28",
   "metadata": {
    "jp-MarkdownHeadingCollapsed": true,
    "tags": []
   },
   "source": [
    "### Load data"
   ]
  },
  {
   "cell_type": "code",
   "execution_count": null,
   "id": "d1aebac7-dea3-4c1d-af74-5eb0479d0388",
   "metadata": {},
   "outputs": [],
   "source": [
    "df = pd.read_csv('data/usa-housing-train-preprocessed.csv')\n",
    "df"
   ]
  },
  {
   "cell_type": "markdown",
   "id": "89b5712f-f464-4014-8985-4a8282cd95fe",
   "metadata": {
    "tags": []
   },
   "source": [
    "### Split x & y"
   ]
  },
  {
   "cell_type": "code",
   "execution_count": null,
   "id": "d068241b-17a9-4ed5-b6ea-5ea68be5a673",
   "metadata": {},
   "outputs": [],
   "source": [
    "train_set = np.array(df)[:, 1:]\n",
    "x_train = train_set[:, 0:5]\n",
    "y_train = train_set[:, 5]\n",
    "x_train.shape, y_train.shape"
   ]
  },
  {
   "cell_type": "markdown",
   "id": "8f5aa125-4630-4577-9e30-9f64af1add5e",
   "metadata": {
    "jp-MarkdownHeadingCollapsed": true,
    "tags": []
   },
   "source": [
    "### Visualize"
   ]
  },
  {
   "cell_type": "code",
   "execution_count": null,
   "id": "2495edd4-691d-4853-bcfb-acaa149cb4ba",
   "metadata": {},
   "outputs": [],
   "source": [
    "plt.scatter(x_train[:, 4], y_train)"
   ]
  },
  {
   "cell_type": "markdown",
   "id": "67849aa2-9095-46d3-9bbd-1d7439f483d8",
   "metadata": {
    "jp-MarkdownHeadingCollapsed": true,
    "tags": []
   },
   "source": [
    "## **🔸 Model**"
   ]
  },
  {
   "cell_type": "code",
   "execution_count": null,
   "id": "87b67a80-8f27-43f4-a2b6-ac32b7bb441b",
   "metadata": {},
   "outputs": [],
   "source": [
    "n, m = x_train.shape\n",
    "\n",
    "x = x_train[0, :]\n",
    "x_aug = np.hstack((1, x))\n",
    "print(x_aug)\n",
    "\n",
    "w = np.random.randn(6)\n",
    "print(w)\n",
    "\n",
    "y_hat = 0\n",
    "for xi, wi in zip(x, w):\n",
    "    y_hat += xi*wi\n",
    "y_hat"
   ]
  },
  {
   "cell_type": "code",
   "execution_count": null,
   "id": "ec19cfc7-d60d-4f3b-825a-42cdd3c9ff52",
   "metadata": {},
   "outputs": [],
   "source": [
    "n, m = x_train.shape\n",
    "\n",
    "x = np.hstack((np.ones((n, 1)), x_train))\n",
    "\n",
    "w = np.random.randn(m+1)\n",
    "\n",
    "y_hat = 0\n",
    "for xi, wi in zip(x_train_aug.T, w):\n",
    "    y_hat += xi*wi\n",
    "y_hat.shape"
   ]
  },
  {
   "cell_type": "markdown",
   "id": "0146ba45-d638-4167-8d6f-13efc321d495",
   "metadata": {
    "jp-MarkdownHeadingCollapsed": true,
    "tags": []
   },
   "source": [
    "### Define model"
   ]
  },
  {
   "cell_type": "code",
   "execution_count": null,
   "id": "c639a788-4f43-48ac-ac70-2fa974d2ff4b",
   "metadata": {},
   "outputs": [],
   "source": [
    "def multiple_linear_regression(x, w):\n",
    "    y_hat = 0\n",
    "    for xi, wi in zip(x.T, w):\n",
    "        y_hat += xi*wi\n",
    "    return y_hat"
   ]
  },
  {
   "cell_type": "markdown",
   "id": "4b9eaf0f-d620-47c3-8525-5c9494deda57",
   "metadata": {
    "jp-MarkdownHeadingCollapsed": true,
    "tags": []
   },
   "source": [
    "### Pass data to the model"
   ]
  },
  {
   "cell_type": "markdown",
   "id": "e8131f79-3ce4-42f4-9bce-d1e6d1e086e4",
   "metadata": {
    "jp-MarkdownHeadingCollapsed": true,
    "tags": []
   },
   "source": [
    "#### - Initialize weight and bias"
   ]
  },
  {
   "cell_type": "code",
   "execution_count": null,
   "id": "929d52fe-e12d-42e0-a460-47a485e0daed",
   "metadata": {},
   "outputs": [],
   "source": [
    "w = np.random.randn(m+1)\n",
    "w.shape"
   ]
  },
  {
   "cell_type": "markdown",
   "id": "ee99b0dd-c954-4cca-94d8-3bf74c038c1b",
   "metadata": {
    "jp-MarkdownHeadingCollapsed": true,
    "tags": []
   },
   "source": [
    "#### - Get model's output"
   ]
  },
  {
   "cell_type": "code",
   "execution_count": null,
   "id": "386ca379-75c0-48e1-b034-4bb0299aa3ea",
   "metadata": {},
   "outputs": [],
   "source": [
    "x_train_aug = np.hstack((np.ones((n, 1)), x_train))\n",
    "y_hat = multiple_linear_regression(x_train_aug, w)\n",
    "y_hat.shape"
   ]
  },
  {
   "cell_type": "markdown",
   "id": "5271541a-8fb6-4c69-a64e-1d0da353d878",
   "metadata": {
    "jp-MarkdownHeadingCollapsed": true,
    "tags": []
   },
   "source": [
    "## **🔸 Train**"
   ]
  },
  {
   "cell_type": "markdown",
   "id": "a48bde72-4daa-40fd-a16b-2bb3cad98cbb",
   "metadata": {
    "jp-MarkdownHeadingCollapsed": true,
    "tags": []
   },
   "source": [
    "### Functions"
   ]
  },
  {
   "cell_type": "code",
   "execution_count": null,
   "id": "96a34515-508c-417c-af5b-3eb4698604df",
   "metadata": {},
   "outputs": [],
   "source": [
    "def multiple_linear_regression(x, w):\n",
    "    y_hat = 0\n",
    "    for xi, wi in zip(x.T, w):\n",
    "        y_hat += xi*wi\n",
    "    return y_hat"
   ]
  },
  {
   "cell_type": "code",
   "execution_count": null,
   "id": "d8537523-bd0c-49d5-9617-9cf32550a167",
   "metadata": {},
   "outputs": [],
   "source": [
    "def mse(y, y_hat):\n",
    "    loss = np.mean((y - y_hat)**2)\n",
    "    return loss"
   ]
  },
  {
   "cell_type": "code",
   "execution_count": null,
   "id": "48c12eeb-b024-45df-9f4d-8c8894194681",
   "metadata": {},
   "outputs": [],
   "source": [
    "def gradient(x, y, y_hat):\n",
    "    grads = []\n",
    "    for xi in x.T:\n",
    "        grads.append(2*np.mean(xi * (y_hat - y)))\n",
    "    grads = np.array(grads)\n",
    "    return grads"
   ]
  },
  {
   "cell_type": "code",
   "execution_count": null,
   "id": "02a2e6f1-4d97-4608-a8f8-87c30fd22ba2",
   "metadata": {},
   "outputs": [],
   "source": [
    "def gradient_descent(w, eta, grads):\n",
    "    w -= eta*grads\n",
    "    return w"
   ]
  },
  {
   "cell_type": "markdown",
   "id": "984a8b29-18e6-44c5-848f-2f2f984a6054",
   "metadata": {
    "jp-MarkdownHeadingCollapsed": true,
    "tags": []
   },
   "source": [
    "### Load Train Dataset"
   ]
  },
  {
   "cell_type": "code",
   "execution_count": null,
   "id": "e4d93019-984c-4690-a0d7-29ad61cd3946",
   "metadata": {},
   "outputs": [],
   "source": [
    "df = pd.read_csv('data/usa-housing-train-preprocessed.csv')\n",
    "train_set = np.array(df)[:, 1:]\n",
    "\n",
    "x_train = train_set[:, 0:5]\n",
    "y_train = train_set[:, 5]\n",
    "\n",
    "n, m = x_train.shape\n",
    "x_train = np.hstack((np.ones((n, 1)), x_train))\n",
    "x_train.shape"
   ]
  },
  {
   "cell_type": "markdown",
   "id": "8fec4cff-db0d-44c2-b003-ccdd1a5a5136",
   "metadata": {
    "jp-MarkdownHeadingCollapsed": true,
    "tags": []
   },
   "source": [
    "### Initialization"
   ]
  },
  {
   "cell_type": "code",
   "execution_count": null,
   "id": "6284cf7b-6714-488f-9881-067232deaaa7",
   "metadata": {},
   "outputs": [],
   "source": [
    "w = np.random.randn(m+1)\n",
    "\n",
    "eta = 0.5\n",
    "n_epochs = 2000"
   ]
  },
  {
   "cell_type": "markdown",
   "id": "89a7073c-9310-4694-8c31-2f4463ba7215",
   "metadata": {
    "jp-MarkdownHeadingCollapsed": true,
    "tags": []
   },
   "source": [
    "### Main"
   ]
  },
  {
   "cell_type": "code",
   "execution_count": null,
   "id": "23e46b65-dea0-4b40-866a-0ec9b36163b1",
   "metadata": {},
   "outputs": [],
   "source": [
    "error_hist = []\n",
    "\n",
    "for epoch in range(n_epochs):\n",
    "    # predictions\n",
    "    y_hat = multiple_linear_regression(x_train, w)\n",
    "\n",
    "    # loss\n",
    "    e = mse(y_train, y_hat)\n",
    "    error_hist.append(e)\n",
    "    \n",
    "    # gradients\n",
    "    grads = gradient(x_train, y_train, y_hat)\n",
    "    \n",
    "    # gradient descent\n",
    "    w = gradient_descent(w, eta, grads)\n",
    "    \n",
    "    if (epoch+1) % 100 == 0:\n",
    "        print(f'Epoch={epoch}, \\t E={e:.4},\\t w={w}')"
   ]
  },
  {
   "cell_type": "markdown",
   "id": "b25c241a-adb0-4edf-960b-9693d6aac1ee",
   "metadata": {
    "jp-MarkdownHeadingCollapsed": true,
    "tags": []
   },
   "source": [
    "### Learning curve"
   ]
  },
  {
   "cell_type": "code",
   "execution_count": null,
   "id": "a213f92e-1a66-447a-90f3-f52958f33dd4",
   "metadata": {},
   "outputs": [],
   "source": [
    "plt.plot(error_hist)"
   ]
  },
  {
   "cell_type": "markdown",
   "id": "55133801-01f3-4fa8-9e4f-79d6005a580a",
   "metadata": {
    "jp-MarkdownHeadingCollapsed": true,
    "tags": []
   },
   "source": [
    "### Save model"
   ]
  },
  {
   "cell_type": "code",
   "execution_count": null,
   "id": "2b315f38-4a95-4b55-8305-6292f9e925ce",
   "metadata": {},
   "outputs": [],
   "source": [
    "np.save('multiple-linear-regression-weights', w)"
   ]
  },
  {
   "cell_type": "markdown",
   "id": "ba124ea8-475d-496c-b1c1-71adf0853c77",
   "metadata": {
    "jp-MarkdownHeadingCollapsed": true,
    "tags": []
   },
   "source": [
    "## **🔸 Test**"
   ]
  },
  {
   "cell_type": "markdown",
   "id": "d6fbdeff-d99c-4059-aabc-ebfe0c33af8f",
   "metadata": {
    "jp-MarkdownHeadingCollapsed": true,
    "tags": []
   },
   "source": [
    "### Functions"
   ]
  },
  {
   "cell_type": "code",
   "execution_count": null,
   "id": "fd638d2b-5b8e-4010-9f09-6c8d88f81e48",
   "metadata": {},
   "outputs": [],
   "source": [
    "def multiple_linear_regression(x, w):\n",
    "    y_hat = 0\n",
    "    for xi, wi in zip(x.T, w):\n",
    "        y_hat += xi*wi\n",
    "    return y_hat"
   ]
  },
  {
   "cell_type": "code",
   "execution_count": null,
   "id": "29b01496-f840-4ed6-8bd7-195337f0115a",
   "metadata": {},
   "outputs": [],
   "source": [
    "def mae(y, y_hat):\n",
    "    loss = np.mean(np.abs(y - y_hat))\n",
    "    return loss"
   ]
  },
  {
   "cell_type": "code",
   "execution_count": null,
   "id": "8a21e00d-7b88-48b8-95c4-16994cf8ae03",
   "metadata": {},
   "outputs": [],
   "source": [
    "def r2(y, y_hat):\n",
    "    return 1 - np.sum((y - y_hat)**2) / np.sum((y - y.mean())**2)"
   ]
  },
  {
   "cell_type": "markdown",
   "id": "5e7e046f-7de3-419c-b879-46abbd410f79",
   "metadata": {
    "jp-MarkdownHeadingCollapsed": true,
    "tags": []
   },
   "source": [
    "### Load Test Dataset"
   ]
  },
  {
   "cell_type": "code",
   "execution_count": null,
   "id": "772c47a1-a9b9-40ad-9a22-05188780f5c0",
   "metadata": {},
   "outputs": [],
   "source": [
    "df = pd.read_csv('data/usa-housing-test-preprocessed.csv')\n",
    "test_set = np.array(df)[:, 1:]\n",
    "\n",
    "x_test = test_set[:, 0:5]\n",
    "y_test = test_set[:, 5]\n",
    "\n",
    "n, m = x_test.shape\n",
    "x_test = np.hstack((np.ones((n, 1)), x_test))\n",
    "x_test.shape"
   ]
  },
  {
   "cell_type": "markdown",
   "id": "b42733df-79ed-4af6-8b5d-509f55ca9e73",
   "metadata": {
    "jp-MarkdownHeadingCollapsed": true,
    "tags": []
   },
   "source": [
    "### Load Trained Model"
   ]
  },
  {
   "cell_type": "code",
   "execution_count": null,
   "id": "349b34f2-bc4c-4a21-94ed-7b46afd089ee",
   "metadata": {},
   "outputs": [],
   "source": [
    "w = np.load('multiple-linear-regression-weights.npy')\n",
    "w"
   ]
  },
  {
   "cell_type": "markdown",
   "id": "865d0981-af07-4362-9ea6-ffd87274eceb",
   "metadata": {
    "jp-MarkdownHeadingCollapsed": true,
    "tags": []
   },
   "source": [
    "### Evaluate"
   ]
  },
  {
   "cell_type": "code",
   "execution_count": null,
   "id": "31b4547c-10da-4102-8025-820c5e6330f9",
   "metadata": {},
   "outputs": [],
   "source": [
    "y_hat_test = multiple_linear_regression(x_test, w)"
   ]
  },
  {
   "cell_type": "code",
   "execution_count": null,
   "id": "c6948b82-b0da-413b-9240-86ae7073b079",
   "metadata": {},
   "outputs": [],
   "source": [
    "mae(y_test, y_hat_test)"
   ]
  },
  {
   "cell_type": "code",
   "execution_count": null,
   "id": "d55e3d0a-a32a-4c1e-850b-ed67e08f5341",
   "metadata": {},
   "outputs": [],
   "source": [
    "r2(y_test, y_hat_test)"
   ]
  },
  {
   "cell_type": "markdown",
   "id": "cb3a450c-d704-4302-a4d6-e9e3300b04d0",
   "metadata": {
    "jp-MarkdownHeadingCollapsed": true,
    "tags": []
   },
   "source": [
    "## **🔸 Vectorization**"
   ]
  },
  {
   "cell_type": "markdown",
   "id": "f5016010-9bf9-4cdc-bee1-8461b14789bb",
   "metadata": {
    "jp-MarkdownHeadingCollapsed": true,
    "tags": []
   },
   "source": [
    "### Functions"
   ]
  },
  {
   "cell_type": "code",
   "execution_count": null,
   "id": "bab43734-3b20-4f70-b52d-5294ec58c1ee",
   "metadata": {},
   "outputs": [],
   "source": [
    "def multiple_linear_regression(x, w):\n",
    "    y_hat = x @ w\n",
    "    return y_hat"
   ]
  },
  {
   "cell_type": "code",
   "execution_count": null,
   "id": "4d969c01-ae33-4894-8d6e-54b0bc089892",
   "metadata": {},
   "outputs": [],
   "source": [
    "def mse(y, y_hat):\n",
    "    loss = np.mean((y - y_hat)**2)\n",
    "    return loss #, np.linalg.norm(y-y_hat)**2 / len(y), ((y_hat - y).T @ (y_hat - y)) / len(y)"
   ]
  },
  {
   "cell_type": "code",
   "execution_count": null,
   "id": "d4ede658-80a0-4577-a528-0528d9384c4a",
   "metadata": {},
   "outputs": [],
   "source": [
    "def gradient(x, y, y_hat):\n",
    "    grads = 2*(x.T @ (y_hat - y)) / x.shape[0]\n",
    "    return grads"
   ]
  },
  {
   "cell_type": "code",
   "execution_count": null,
   "id": "e20bae21-8dd5-4fc0-81ff-58ff07d05ab8",
   "metadata": {},
   "outputs": [],
   "source": [
    "def gradient_descent(w, eta, grads):\n",
    "    w -= eta*grads\n",
    "    return w"
   ]
  },
  {
   "cell_type": "code",
   "execution_count": null,
   "id": "8c9189a9-4e12-41d0-b891-70b8a1c358e2",
   "metadata": {},
   "outputs": [],
   "source": [
    "def mae(y, y_hat):\n",
    "    loss = np.mean(np.abs(y - y_hat))\n",
    "    return loss"
   ]
  },
  {
   "cell_type": "code",
   "execution_count": null,
   "id": "2a04c5d6-8d2a-4c59-9a75-632c708bef15",
   "metadata": {},
   "outputs": [],
   "source": [
    "def r2(y, y_hat):\n",
    "    return 1 - np.sum((y - y_hat)**2) / np.sum((y - y.mean())**2)"
   ]
  },
  {
   "cell_type": "markdown",
   "id": "7dc3743b-72e8-4012-919b-0ae3d56f11d2",
   "metadata": {
    "jp-MarkdownHeadingCollapsed": true,
    "tags": []
   },
   "source": [
    "### Train"
   ]
  },
  {
   "cell_type": "markdown",
   "id": "d62b0d38-ce34-471f-86a0-a904fc9a5c0c",
   "metadata": {
    "jp-MarkdownHeadingCollapsed": true,
    "tags": []
   },
   "source": [
    "#### - Load Dataset"
   ]
  },
  {
   "cell_type": "code",
   "execution_count": null,
   "id": "03161f98-7b19-4ac0-8b21-728ba61a4a93",
   "metadata": {},
   "outputs": [],
   "source": [
    "df = pd.read_csv('data/usa-housing-train-preprocessed.csv')\n",
    "train_set = np.array(df)[:, 1:]\n",
    "\n",
    "x_train = train_set[:, 0:5]\n",
    "y_train = train_set[:, [5]]\n",
    "\n",
    "n, m = x_train.shape\n",
    "x_train = np.hstack((np.ones((n, 1)), x_train))\n",
    "x_train.shape, y_train.shape"
   ]
  },
  {
   "cell_type": "markdown",
   "id": "2984bc8a-53a5-493a-9b3f-6b776baa1c18",
   "metadata": {
    "jp-MarkdownHeadingCollapsed": true,
    "tags": []
   },
   "source": [
    "#### - Initialization"
   ]
  },
  {
   "cell_type": "code",
   "execution_count": null,
   "id": "92b2f7ac-e2d9-4759-ab20-73e7fb6a3927",
   "metadata": {},
   "outputs": [],
   "source": [
    "w = np.random.randn(m+1, 1)\n",
    "print(w.shape)\n",
    "\n",
    "eta = 0.01\n",
    "n_epochs = 2000"
   ]
  },
  {
   "cell_type": "markdown",
   "id": "742073f2-9e6c-48e0-8068-595afeb41627",
   "metadata": {
    "jp-MarkdownHeadingCollapsed": true,
    "tags": []
   },
   "source": [
    "#### - Main"
   ]
  },
  {
   "cell_type": "code",
   "execution_count": null,
   "id": "00f74806-bf2b-45e7-b232-5cdcf0f9b76a",
   "metadata": {},
   "outputs": [],
   "source": [
    "error_hist = []\n",
    "\n",
    "for epoch in range(n_epochs):\n",
    "    # predictions\n",
    "    y_hat = multiple_linear_regression(x_train, w)\n",
    "\n",
    "    # loss\n",
    "    e = mse(y_train, y_hat)\n",
    "    error_hist.append(e)\n",
    "    \n",
    "    # gradients\n",
    "    grads = gradient(x_train, y_train, y_hat)\n",
    "    \n",
    "    # gradient descent\n",
    "    w = gradient_descent(w, eta, grads)\n",
    "    \n",
    "    if (epoch+1) % 100 == 0:\n",
    "        print(f'Epoch={epoch}, \\t E={e:.4},\\t w={w.T[0]}')"
   ]
  },
  {
   "cell_type": "markdown",
   "id": "f3f0060b-856d-4d2b-98a1-11858974377e",
   "metadata": {
    "jp-MarkdownHeadingCollapsed": true,
    "tags": []
   },
   "source": [
    "### Learning curve"
   ]
  },
  {
   "cell_type": "code",
   "execution_count": null,
   "id": "fa6e87f9-7468-435e-a21b-6b81466566f8",
   "metadata": {},
   "outputs": [],
   "source": [
    "plt.plot(error_hist)"
   ]
  },
  {
   "cell_type": "markdown",
   "id": "b0e09ad6-b69f-41fd-bcf7-54cf1ef5404c",
   "metadata": {
    "jp-MarkdownHeadingCollapsed": true,
    "tags": []
   },
   "source": [
    "### Save model"
   ]
  },
  {
   "cell_type": "code",
   "execution_count": null,
   "id": "28c93c82-ac58-447a-8df7-89a2f6afe7c4",
   "metadata": {},
   "outputs": [],
   "source": [
    "np.save('multiple-linear-regression-weights-vec', w)"
   ]
  },
  {
   "cell_type": "markdown",
   "id": "a2ee335c-2411-4599-a214-b7990416adad",
   "metadata": {
    "jp-MarkdownHeadingCollapsed": true,
    "tags": []
   },
   "source": [
    "### Test"
   ]
  },
  {
   "cell_type": "code",
   "execution_count": null,
   "id": "6570c79a-491b-4d8f-9f6e-be4cc3e6882b",
   "metadata": {},
   "outputs": [],
   "source": [
    "df = pd.read_csv('data/usa-housing-test-preprocessed.csv')\n",
    "test_set = np.array(df)[:, 1:]\n",
    "\n",
    "x_test = test_set[:, 0:5]\n",
    "y_test = test_set[:, [5]]\n",
    "\n",
    "n, m = x_test.shape\n",
    "x_test = np.hstack((np.ones((n, 1)), x_test))\n",
    "x_test.shape, y_test.shape"
   ]
  },
  {
   "cell_type": "code",
   "execution_count": null,
   "id": "940cf771-3a18-4f63-a750-8da5d3ad8541",
   "metadata": {},
   "outputs": [],
   "source": [
    "y_hat_test = multiple_linear_regression(x_test, w)\n",
    "y_hat_test.shape"
   ]
  },
  {
   "cell_type": "code",
   "execution_count": null,
   "id": "dbcd736c-ad50-4add-a896-384ea866c11d",
   "metadata": {},
   "outputs": [],
   "source": [
    "mae(y_test, y_hat_test)"
   ]
  },
  {
   "cell_type": "code",
   "execution_count": null,
   "id": "6d30fde5-e6a4-448f-b21c-386e0f3a0028",
   "metadata": {},
   "outputs": [],
   "source": [
    "r2(y_test, y_hat_test)"
   ]
  },
  {
   "cell_type": "markdown",
   "id": "1d678a8d-86e5-44a3-a6fa-abf65a7351d0",
   "metadata": {
    "jp-MarkdownHeadingCollapsed": true,
    "tags": []
   },
   "source": [
    "## **🔸 Closed-form Solution**"
   ]
  },
  {
   "cell_type": "markdown",
   "id": "85329a09-4a96-4805-beb7-c2199af8121f",
   "metadata": {},
   "source": [
    "$\n",
    "\\begin{align}\n",
    "w &= (X^TX)^{-1} X^T y\n",
    "\\end{align}\n",
    "$"
   ]
  },
  {
   "cell_type": "code",
   "execution_count": null,
   "id": "e2f9706a-7b0e-4a8d-bc60-66999bc0de37",
   "metadata": {},
   "outputs": [],
   "source": [
    "df = pd.read_csv('data/usa-housing-train-preprocessed.csv')\n",
    "train_set = np.array(df)[:, 1:]\n",
    "\n",
    "x_train = train_set[:, 0:5]\n",
    "y_train = train_set[:, [5]]\n",
    "\n",
    "n, m = x_train.shape\n",
    "x_train = np.hstack((np.ones((n, 1)), x_train))\n",
    "x_train.shape, y_train.shape"
   ]
  },
  {
   "cell_type": "code",
   "execution_count": null,
   "id": "bd3d86ef-bd78-418b-a045-997016963df6",
   "metadata": {},
   "outputs": [],
   "source": [
    "X = x_train.copy()\n",
    "y = y_train.copy()\n",
    "X.shape, y.shape"
   ]
  },
  {
   "cell_type": "code",
   "execution_count": null,
   "id": "4216ca3d-3f30-4e3b-8056-b4ae7af0c822",
   "metadata": {},
   "outputs": [],
   "source": [
    "wc = np.linalg.inv(X.T @ X) @ X.T @ y\n",
    "wc"
   ]
  },
  {
   "cell_type": "code",
   "execution_count": null,
   "id": "d45a8ef2-f11e-4ea8-a81a-79fa535c3bd2",
   "metadata": {},
   "outputs": [],
   "source": [
    "w"
   ]
  },
  {
   "cell_type": "markdown",
   "id": "e8e8463a-444f-4f14-808b-b0ca4414587d",
   "metadata": {
    "jp-MarkdownHeadingCollapsed": true,
    "tags": []
   },
   "source": [
    "### Test"
   ]
  },
  {
   "cell_type": "code",
   "execution_count": null,
   "id": "80dbb823-2748-4bcd-b95b-aa376f93396e",
   "metadata": {},
   "outputs": [],
   "source": [
    "df = pd.read_csv('data/usa-housing-test-preprocessed.csv')\n",
    "test_set = np.array(df)[:, 1:]\n",
    "\n",
    "x_test = test_set[:, 0:5]\n",
    "y_test = test_set[:, [5]]\n",
    "\n",
    "n, m = x_test.shape\n",
    "x_test = np.hstack((np.ones((n, 1)), x_test))\n",
    "x_test.shape, y_test.shape"
   ]
  },
  {
   "cell_type": "code",
   "execution_count": null,
   "id": "a751c6e4-d42a-4dce-9a92-6809ab4b4f83",
   "metadata": {},
   "outputs": [],
   "source": [
    "y_hat_test = multiple_linear_regression(x_test, wc)\n",
    "y_hat_test.shape"
   ]
  },
  {
   "cell_type": "code",
   "execution_count": null,
   "id": "16d06720-5895-4ee5-84fc-416e01ae89b6",
   "metadata": {},
   "outputs": [],
   "source": [
    "mae(y_test, y_hat_test)"
   ]
  },
  {
   "cell_type": "code",
   "execution_count": null,
   "id": "df2e147c-765b-42f4-995c-6ce618d67d37",
   "metadata": {},
   "outputs": [],
   "source": [
    "r2(y_test, y_hat_test)"
   ]
  },
  {
   "cell_type": "markdown",
   "id": "05f45b13-ce67-45a8-8965-0ad780d35312",
   "metadata": {
    "jp-MarkdownHeadingCollapsed": true,
    "tags": []
   },
   "source": [
    "## **🔸 scikit-learn: LinearRegression()**"
   ]
  },
  {
   "cell_type": "markdown",
   "id": "47a2e827-0e58-4a28-90ba-dad212fc4a7a",
   "metadata": {
    "jp-MarkdownHeadingCollapsed": true,
    "tags": []
   },
   "source": [
    "### Train Dataset"
   ]
  },
  {
   "cell_type": "code",
   "execution_count": null,
   "id": "538422f9-6ddf-4dd5-b8dc-d9f8c5702427",
   "metadata": {},
   "outputs": [],
   "source": [
    "df = pd.read_csv('data/usa-housing-train-preprocessed.csv')\n",
    "train_set = np.array(df)[:, 1:]\n",
    "\n",
    "x_train = train_set[:, 0:5]\n",
    "y_train = train_set[:, [5]]\n",
    "\n",
    "n, m = x_train.shape\n",
    "x_train = np.hstack((np.ones((n, 1)), x_train))\n",
    "x_train.shape, y_train.shape"
   ]
  },
  {
   "cell_type": "markdown",
   "id": "a8cb8e0b-8f47-488c-be81-fee14b2f4bf1",
   "metadata": {
    "jp-MarkdownHeadingCollapsed": true,
    "tags": []
   },
   "source": [
    "### Test Dataset"
   ]
  },
  {
   "cell_type": "code",
   "execution_count": null,
   "id": "9103e013-c44e-47e4-9c63-e63e6f3c014c",
   "metadata": {},
   "outputs": [],
   "source": [
    "df = pd.read_csv('data/usa-housing-test-preprocessed.csv')\n",
    "test_set = np.array(df)[:, 1:]\n",
    "\n",
    "x_test = test_set[:, 0:5]\n",
    "y_test = test_set[:, [5]]\n",
    "\n",
    "n, m = x_test.shape\n",
    "x_test = np.hstack((np.ones((n, 1)), x_test))\n",
    "x_test.shape, y_test.shape"
   ]
  },
  {
   "cell_type": "markdown",
   "id": "8f8d670b-6b2f-45e9-bd55-e568f8de7db2",
   "metadata": {
    "jp-MarkdownHeadingCollapsed": true,
    "tags": []
   },
   "source": [
    "### Model"
   ]
  },
  {
   "cell_type": "code",
   "execution_count": null,
   "id": "1ef5415a-4155-403b-982e-532d5e4d1e64",
   "metadata": {},
   "outputs": [],
   "source": [
    "model = LinearRegression()\n",
    "model"
   ]
  },
  {
   "cell_type": "code",
   "execution_count": null,
   "id": "61092f26-3c8a-4441-a5cc-6e30ab2c8a1b",
   "metadata": {},
   "outputs": [],
   "source": [
    "model.coef_, model.rank_"
   ]
  },
  {
   "cell_type": "markdown",
   "id": "e99b6f71-7729-4229-b59d-0b8e9440ffd1",
   "metadata": {
    "jp-MarkdownHeadingCollapsed": true,
    "tags": []
   },
   "source": [
    "### Train"
   ]
  },
  {
   "cell_type": "code",
   "execution_count": null,
   "id": "c2f032fa-9ac8-4dec-8fda-3278eb3aecbd",
   "metadata": {},
   "outputs": [],
   "source": [
    "model.fit(x_train, y_train)"
   ]
  },
  {
   "cell_type": "code",
   "execution_count": null,
   "id": "eb998cd2-6af7-4c3b-80de-996eb8e5fdb5",
   "metadata": {},
   "outputs": [],
   "source": [
    "model.intercept_, model.coef_, model.rank_"
   ]
  },
  {
   "cell_type": "markdown",
   "id": "2739f39d-7899-48bd-a42f-7b45dec1bcbc",
   "metadata": {
    "jp-MarkdownHeadingCollapsed": true,
    "tags": []
   },
   "source": [
    "### Test"
   ]
  },
  {
   "cell_type": "code",
   "execution_count": null,
   "id": "82629aa1-a4f6-43fb-b5a1-5120233b08bd",
   "metadata": {},
   "outputs": [],
   "source": [
    "model.score(x_train, y_train)"
   ]
  },
  {
   "cell_type": "code",
   "execution_count": null,
   "id": "23bfaa67-30e9-47d1-b087-03b89f24ca8b",
   "metadata": {},
   "outputs": [],
   "source": [
    "model.score(x_test, y_test)"
   ]
  },
  {
   "cell_type": "code",
   "execution_count": null,
   "id": "cbe5d505-3322-4410-8a4f-cda31df1cf34",
   "metadata": {},
   "outputs": [],
   "source": [
    "y_hat = model.predict(x_test[[0], :])\n",
    "y_hat"
   ]
  },
  {
   "cell_type": "markdown",
   "id": "8fdcf362-d0bc-4f7f-9d49-e05b22c1e122",
   "metadata": {
    "jp-MarkdownHeadingCollapsed": true,
    "tags": []
   },
   "source": [
    "## **🔸 scikit-learn: SGDRegressor()**"
   ]
  },
  {
   "cell_type": "markdown",
   "id": "fd12e786-c4c2-4915-90d7-d718f52031f3",
   "metadata": {
    "jp-MarkdownHeadingCollapsed": true,
    "tags": []
   },
   "source": [
    "### Train Dataset"
   ]
  },
  {
   "cell_type": "code",
   "execution_count": 62,
   "id": "6b6a9ec2-ffba-4548-bb6d-304ab3993149",
   "metadata": {},
   "outputs": [
    {
     "data": {
      "text/plain": [
       "((3500, 6), (3500,))"
      ]
     },
     "execution_count": 62,
     "metadata": {},
     "output_type": "execute_result"
    }
   ],
   "source": [
    "df = pd.read_csv('data/usa-housing-train-preprocessed.csv')\n",
    "train_set = np.array(df)[:, 1:]\n",
    "\n",
    "x_train = train_set[:, 0:5]\n",
    "y_train = train_set[:, 5]\n",
    "\n",
    "n, m = x_train.shape\n",
    "x_train = np.hstack((np.ones((n, 1)), x_train))\n",
    "x_train.shape, y_train.shape"
   ]
  },
  {
   "cell_type": "markdown",
   "id": "176f4c23-d0db-4c86-a079-7b66f581cf6d",
   "metadata": {
    "jp-MarkdownHeadingCollapsed": true,
    "tags": []
   },
   "source": [
    "### Test Dataset"
   ]
  },
  {
   "cell_type": "code",
   "execution_count": 63,
   "id": "39f73247-647f-46b0-9022-69c085c20835",
   "metadata": {},
   "outputs": [
    {
     "data": {
      "text/plain": [
       "((1500, 6), (1500,))"
      ]
     },
     "execution_count": 63,
     "metadata": {},
     "output_type": "execute_result"
    }
   ],
   "source": [
    "df = pd.read_csv('data/usa-housing-test-preprocessed.csv')\n",
    "test_set = np.array(df)[:, 1:]\n",
    "\n",
    "x_test = test_set[:, 0:5]\n",
    "y_test = test_set[:, 5]\n",
    "\n",
    "n, m = x_test.shape\n",
    "x_test = np.hstack((np.ones((n, 1)), x_test))\n",
    "x_test.shape, y_test.shape"
   ]
  },
  {
   "cell_type": "markdown",
   "id": "82971276-9928-48f9-8e20-6c4f3d480fb2",
   "metadata": {
    "jp-MarkdownHeadingCollapsed": true,
    "tags": []
   },
   "source": [
    "### Model"
   ]
  },
  {
   "cell_type": "code",
   "execution_count": 72,
   "id": "1adfffcc-c441-474f-a0f3-f508d851bbb5",
   "metadata": {},
   "outputs": [
    {
     "data": {
      "text/html": [
       "<style>#sk-container-id-28 {color: black;background-color: white;}#sk-container-id-28 pre{padding: 0;}#sk-container-id-28 div.sk-toggleable {background-color: white;}#sk-container-id-28 label.sk-toggleable__label {cursor: pointer;display: block;width: 100%;margin-bottom: 0;padding: 0.3em;box-sizing: border-box;text-align: center;}#sk-container-id-28 label.sk-toggleable__label-arrow:before {content: \"▸\";float: left;margin-right: 0.25em;color: #696969;}#sk-container-id-28 label.sk-toggleable__label-arrow:hover:before {color: black;}#sk-container-id-28 div.sk-estimator:hover label.sk-toggleable__label-arrow:before {color: black;}#sk-container-id-28 div.sk-toggleable__content {max-height: 0;max-width: 0;overflow: hidden;text-align: left;background-color: #f0f8ff;}#sk-container-id-28 div.sk-toggleable__content pre {margin: 0.2em;color: black;border-radius: 0.25em;background-color: #f0f8ff;}#sk-container-id-28 input.sk-toggleable__control:checked~div.sk-toggleable__content {max-height: 200px;max-width: 100%;overflow: auto;}#sk-container-id-28 input.sk-toggleable__control:checked~label.sk-toggleable__label-arrow:before {content: \"▾\";}#sk-container-id-28 div.sk-estimator input.sk-toggleable__control:checked~label.sk-toggleable__label {background-color: #d4ebff;}#sk-container-id-28 div.sk-label input.sk-toggleable__control:checked~label.sk-toggleable__label {background-color: #d4ebff;}#sk-container-id-28 input.sk-hidden--visually {border: 0;clip: rect(1px 1px 1px 1px);clip: rect(1px, 1px, 1px, 1px);height: 1px;margin: -1px;overflow: hidden;padding: 0;position: absolute;width: 1px;}#sk-container-id-28 div.sk-estimator {font-family: monospace;background-color: #f0f8ff;border: 1px dotted black;border-radius: 0.25em;box-sizing: border-box;margin-bottom: 0.5em;}#sk-container-id-28 div.sk-estimator:hover {background-color: #d4ebff;}#sk-container-id-28 div.sk-parallel-item::after {content: \"\";width: 100%;border-bottom: 1px solid gray;flex-grow: 1;}#sk-container-id-28 div.sk-label:hover label.sk-toggleable__label {background-color: #d4ebff;}#sk-container-id-28 div.sk-serial::before {content: \"\";position: absolute;border-left: 1px solid gray;box-sizing: border-box;top: 0;bottom: 0;left: 50%;z-index: 0;}#sk-container-id-28 div.sk-serial {display: flex;flex-direction: column;align-items: center;background-color: white;padding-right: 0.2em;padding-left: 0.2em;position: relative;}#sk-container-id-28 div.sk-item {position: relative;z-index: 1;}#sk-container-id-28 div.sk-parallel {display: flex;align-items: stretch;justify-content: center;background-color: white;position: relative;}#sk-container-id-28 div.sk-item::before, #sk-container-id-28 div.sk-parallel-item::before {content: \"\";position: absolute;border-left: 1px solid gray;box-sizing: border-box;top: 0;bottom: 0;left: 50%;z-index: -1;}#sk-container-id-28 div.sk-parallel-item {display: flex;flex-direction: column;z-index: 1;position: relative;background-color: white;}#sk-container-id-28 div.sk-parallel-item:first-child::after {align-self: flex-end;width: 50%;}#sk-container-id-28 div.sk-parallel-item:last-child::after {align-self: flex-start;width: 50%;}#sk-container-id-28 div.sk-parallel-item:only-child::after {width: 0;}#sk-container-id-28 div.sk-dashed-wrapped {border: 1px dashed gray;margin: 0 0.4em 0.5em 0.4em;box-sizing: border-box;padding-bottom: 0.4em;background-color: white;}#sk-container-id-28 div.sk-label label {font-family: monospace;font-weight: bold;display: inline-block;line-height: 1.2em;}#sk-container-id-28 div.sk-label-container {text-align: center;}#sk-container-id-28 div.sk-container {/* jupyter's `normalize.less` sets `[hidden] { display: none; }` but bootstrap.min.css set `[hidden] { display: none !important; }` so we also need the `!important` here to be able to override the default hidden behavior on the sphinx rendered scikit-learn.org. See: https://github.com/scikit-learn/scikit-learn/issues/21755 */display: inline-block !important;position: relative;}#sk-container-id-28 div.sk-text-repr-fallback {display: none;}</style><div id=\"sk-container-id-28\" class=\"sk-top-container\"><div class=\"sk-text-repr-fallback\"><pre>SGDRegressor(eta0=0.1, tol=1e-05, verbose=1)</pre><b>In a Jupyter environment, please rerun this cell to show the HTML representation or trust the notebook. <br />On GitHub, the HTML representation is unable to render, please try loading this page with nbviewer.org.</b></div><div class=\"sk-container\" hidden><div class=\"sk-item\"><div class=\"sk-estimator sk-toggleable\"><input class=\"sk-toggleable__control sk-hidden--visually\" id=\"sk-estimator-id-28\" type=\"checkbox\" checked><label for=\"sk-estimator-id-28\" class=\"sk-toggleable__label sk-toggleable__label-arrow\">SGDRegressor</label><div class=\"sk-toggleable__content\"><pre>SGDRegressor(eta0=0.1, tol=1e-05, verbose=1)</pre></div></div></div></div></div>"
      ],
      "text/plain": [
       "SGDRegressor(eta0=0.1, tol=1e-05, verbose=1)"
      ]
     },
     "execution_count": 72,
     "metadata": {},
     "output_type": "execute_result"
    }
   ],
   "source": [
    "model = SGDRegressor(verbose=1, eta0=0.1, tol=1e-5)\n",
    "model"
   ]
  },
  {
   "cell_type": "markdown",
   "id": "bd159e20-b5c3-4682-827b-30e0d91868cd",
   "metadata": {
    "jp-MarkdownHeadingCollapsed": true,
    "tags": []
   },
   "source": [
    "### Train"
   ]
  },
  {
   "cell_type": "code",
   "execution_count": 73,
   "id": "4d03544b-a442-4e65-89ee-218ab59dc580",
   "metadata": {},
   "outputs": [
    {
     "name": "stdout",
     "output_type": "stream",
     "text": [
      "-- Epoch 1\n",
      "Norm: 0.70, NNZs: 6, Bias: 0.611010, T: 3500, Avg. loss: 0.006862\n",
      "Total training time: 0.00 seconds.\n",
      "-- Epoch 2\n",
      "Norm: 0.70, NNZs: 6, Bias: 0.618085, T: 7000, Avg. loss: 0.005384\n",
      "Total training time: 0.00 seconds.\n",
      "-- Epoch 3\n",
      "Norm: 0.71, NNZs: 6, Bias: 0.623544, T: 10500, Avg. loss: 0.005354\n",
      "Total training time: 0.00 seconds.\n",
      "-- Epoch 4\n",
      "Norm: 0.70, NNZs: 6, Bias: 0.626133, T: 14000, Avg. loss: 0.005323\n",
      "Total training time: 0.00 seconds.\n",
      "-- Epoch 5\n",
      "Norm: 0.70, NNZs: 6, Bias: 0.619789, T: 17500, Avg. loss: 0.005344\n",
      "Total training time: 0.00 seconds.\n",
      "-- Epoch 6\n",
      "Norm: 0.69, NNZs: 6, Bias: 0.614896, T: 21000, Avg. loss: 0.005306\n",
      "Total training time: 0.00 seconds.\n",
      "-- Epoch 7\n",
      "Norm: 0.70, NNZs: 6, Bias: 0.619089, T: 24500, Avg. loss: 0.005317\n",
      "Total training time: 0.00 seconds.\n",
      "-- Epoch 8\n",
      "Norm: 0.70, NNZs: 6, Bias: 0.619285, T: 28000, Avg. loss: 0.005278\n",
      "Total training time: 0.00 seconds.\n",
      "-- Epoch 9\n",
      "Norm: 0.70, NNZs: 6, Bias: 0.632882, T: 31500, Avg. loss: 0.005282\n",
      "Total training time: 0.00 seconds.\n",
      "-- Epoch 10\n",
      "Norm: 0.70, NNZs: 6, Bias: 0.630582, T: 35000, Avg. loss: 0.005271\n",
      "Total training time: 0.00 seconds.\n",
      "-- Epoch 11\n",
      "Norm: 0.69, NNZs: 6, Bias: 0.621816, T: 38500, Avg. loss: 0.005304\n",
      "Total training time: 0.00 seconds.\n",
      "-- Epoch 12\n",
      "Norm: 0.70, NNZs: 6, Bias: 0.629011, T: 42000, Avg. loss: 0.005266\n",
      "Total training time: 0.00 seconds.\n",
      "-- Epoch 13\n",
      "Norm: 0.68, NNZs: 6, Bias: 0.616003, T: 45500, Avg. loss: 0.005284\n",
      "Total training time: 0.00 seconds.\n",
      "Convergence after 13 epochs took 0.00 seconds\n"
     ]
    },
    {
     "data": {
      "text/html": [
       "<style>#sk-container-id-29 {color: black;background-color: white;}#sk-container-id-29 pre{padding: 0;}#sk-container-id-29 div.sk-toggleable {background-color: white;}#sk-container-id-29 label.sk-toggleable__label {cursor: pointer;display: block;width: 100%;margin-bottom: 0;padding: 0.3em;box-sizing: border-box;text-align: center;}#sk-container-id-29 label.sk-toggleable__label-arrow:before {content: \"▸\";float: left;margin-right: 0.25em;color: #696969;}#sk-container-id-29 label.sk-toggleable__label-arrow:hover:before {color: black;}#sk-container-id-29 div.sk-estimator:hover label.sk-toggleable__label-arrow:before {color: black;}#sk-container-id-29 div.sk-toggleable__content {max-height: 0;max-width: 0;overflow: hidden;text-align: left;background-color: #f0f8ff;}#sk-container-id-29 div.sk-toggleable__content pre {margin: 0.2em;color: black;border-radius: 0.25em;background-color: #f0f8ff;}#sk-container-id-29 input.sk-toggleable__control:checked~div.sk-toggleable__content {max-height: 200px;max-width: 100%;overflow: auto;}#sk-container-id-29 input.sk-toggleable__control:checked~label.sk-toggleable__label-arrow:before {content: \"▾\";}#sk-container-id-29 div.sk-estimator input.sk-toggleable__control:checked~label.sk-toggleable__label {background-color: #d4ebff;}#sk-container-id-29 div.sk-label input.sk-toggleable__control:checked~label.sk-toggleable__label {background-color: #d4ebff;}#sk-container-id-29 input.sk-hidden--visually {border: 0;clip: rect(1px 1px 1px 1px);clip: rect(1px, 1px, 1px, 1px);height: 1px;margin: -1px;overflow: hidden;padding: 0;position: absolute;width: 1px;}#sk-container-id-29 div.sk-estimator {font-family: monospace;background-color: #f0f8ff;border: 1px dotted black;border-radius: 0.25em;box-sizing: border-box;margin-bottom: 0.5em;}#sk-container-id-29 div.sk-estimator:hover {background-color: #d4ebff;}#sk-container-id-29 div.sk-parallel-item::after {content: \"\";width: 100%;border-bottom: 1px solid gray;flex-grow: 1;}#sk-container-id-29 div.sk-label:hover label.sk-toggleable__label {background-color: #d4ebff;}#sk-container-id-29 div.sk-serial::before {content: \"\";position: absolute;border-left: 1px solid gray;box-sizing: border-box;top: 0;bottom: 0;left: 50%;z-index: 0;}#sk-container-id-29 div.sk-serial {display: flex;flex-direction: column;align-items: center;background-color: white;padding-right: 0.2em;padding-left: 0.2em;position: relative;}#sk-container-id-29 div.sk-item {position: relative;z-index: 1;}#sk-container-id-29 div.sk-parallel {display: flex;align-items: stretch;justify-content: center;background-color: white;position: relative;}#sk-container-id-29 div.sk-item::before, #sk-container-id-29 div.sk-parallel-item::before {content: \"\";position: absolute;border-left: 1px solid gray;box-sizing: border-box;top: 0;bottom: 0;left: 50%;z-index: -1;}#sk-container-id-29 div.sk-parallel-item {display: flex;flex-direction: column;z-index: 1;position: relative;background-color: white;}#sk-container-id-29 div.sk-parallel-item:first-child::after {align-self: flex-end;width: 50%;}#sk-container-id-29 div.sk-parallel-item:last-child::after {align-self: flex-start;width: 50%;}#sk-container-id-29 div.sk-parallel-item:only-child::after {width: 0;}#sk-container-id-29 div.sk-dashed-wrapped {border: 1px dashed gray;margin: 0 0.4em 0.5em 0.4em;box-sizing: border-box;padding-bottom: 0.4em;background-color: white;}#sk-container-id-29 div.sk-label label {font-family: monospace;font-weight: bold;display: inline-block;line-height: 1.2em;}#sk-container-id-29 div.sk-label-container {text-align: center;}#sk-container-id-29 div.sk-container {/* jupyter's `normalize.less` sets `[hidden] { display: none; }` but bootstrap.min.css set `[hidden] { display: none !important; }` so we also need the `!important` here to be able to override the default hidden behavior on the sphinx rendered scikit-learn.org. See: https://github.com/scikit-learn/scikit-learn/issues/21755 */display: inline-block !important;position: relative;}#sk-container-id-29 div.sk-text-repr-fallback {display: none;}</style><div id=\"sk-container-id-29\" class=\"sk-top-container\"><div class=\"sk-text-repr-fallback\"><pre>SGDRegressor(eta0=0.1, tol=1e-05, verbose=1)</pre><b>In a Jupyter environment, please rerun this cell to show the HTML representation or trust the notebook. <br />On GitHub, the HTML representation is unable to render, please try loading this page with nbviewer.org.</b></div><div class=\"sk-container\" hidden><div class=\"sk-item\"><div class=\"sk-estimator sk-toggleable\"><input class=\"sk-toggleable__control sk-hidden--visually\" id=\"sk-estimator-id-29\" type=\"checkbox\" checked><label for=\"sk-estimator-id-29\" class=\"sk-toggleable__label sk-toggleable__label-arrow\">SGDRegressor</label><div class=\"sk-toggleable__content\"><pre>SGDRegressor(eta0=0.1, tol=1e-05, verbose=1)</pre></div></div></div></div></div>"
      ],
      "text/plain": [
       "SGDRegressor(eta0=0.1, tol=1e-05, verbose=1)"
      ]
     },
     "execution_count": 73,
     "metadata": {},
     "output_type": "execute_result"
    }
   ],
   "source": [
    "model.fit(x_train, y_train)"
   ]
  },
  {
   "cell_type": "code",
   "execution_count": 74,
   "id": "b6010d9c-bd58-4c1d-b37e-6b7714a30493",
   "metadata": {},
   "outputs": [
    {
     "data": {
      "text/plain": [
       "(array([0.61600256]),\n",
       " array([0.59073921, 0.22552151, 0.16749133, 0.12858162, 0.01144052,\n",
       "        0.15260798]))"
      ]
     },
     "execution_count": 74,
     "metadata": {},
     "output_type": "execute_result"
    }
   ],
   "source": [
    "model.intercept_, model.coef_"
   ]
  },
  {
   "cell_type": "markdown",
   "id": "df6bb7f8-9c4f-4804-af52-f085bfcd1ec9",
   "metadata": {
    "jp-MarkdownHeadingCollapsed": true,
    "tags": []
   },
   "source": [
    "### Test"
   ]
  },
  {
   "cell_type": "code",
   "execution_count": 75,
   "id": "bf3f9931-f584-4c72-b32c-c20b5e24601b",
   "metadata": {},
   "outputs": [
    {
     "data": {
      "text/plain": [
       "0.9126978957275029"
      ]
     },
     "execution_count": 75,
     "metadata": {},
     "output_type": "execute_result"
    }
   ],
   "source": [
    "model.score(x_train, y_train)"
   ]
  },
  {
   "cell_type": "code",
   "execution_count": 76,
   "id": "3688625e-33c1-4250-a459-b17caa8a169a",
   "metadata": {},
   "outputs": [
    {
     "data": {
      "text/plain": [
       "0.9065903730536611"
      ]
     },
     "execution_count": 76,
     "metadata": {},
     "output_type": "execute_result"
    }
   ],
   "source": [
    "model.score(x_test, y_test)"
   ]
  },
  {
   "cell_type": "code",
   "execution_count": 77,
   "id": "c22c6e30-b4b9-4ec4-bd57-791ef2527693",
   "metadata": {},
   "outputs": [
    {
     "data": {
      "text/plain": [
       "array([1.28237512])"
      ]
     },
     "execution_count": 77,
     "metadata": {},
     "output_type": "execute_result"
    }
   ],
   "source": [
    "y_hat = model.predict(x_test[[0], :])\n",
    "y_hat"
   ]
  }
 ],
 "metadata": {
  "kernelspec": {
   "display_name": "Python 3 (ipykernel)",
   "language": "python",
   "name": "python3"
  },
  "language_info": {
   "codemirror_mode": {
    "name": "ipython",
    "version": 3
   },
   "file_extension": ".py",
   "mimetype": "text/x-python",
   "name": "python",
   "nbconvert_exporter": "python",
   "pygments_lexer": "ipython3",
   "version": "3.9.15"
  }
 },
 "nbformat": 4,
 "nbformat_minor": 5
}
